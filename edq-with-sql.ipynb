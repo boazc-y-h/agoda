{
 "cells": [
  {
   "cell_type": "markdown",
   "id": "776e19ce",
   "metadata": {},
   "source": [
    "# EDA of Agoda's flights and hotel dataset using SQL"
   ]
  },
  {
   "cell_type": "markdown",
   "id": "2db1f138",
   "metadata": {},
   "source": [
    "This notebook analyzes the flight and hotel bookings of Agoda's customers from 26-Sept-2019 to 24-July-2023. The aim of this project is to analyze customer booking behavior and booking pricing by answering the following questions:\n",
    "\n",
    "- What are the booking trends by gender, age and month?\n",
    "- What are the factors that affect flight and hotel prices?\n",
    "\n"
   ]
  },
  {
   "cell_type": "markdown",
   "id": "4827962e",
   "metadata": {},
   "source": [
    "## Set Up\n",
    "\n",
    "The following code connects the notebook to the local MSSQL database, allowing its output to be display in this notebook."
   ]
  },
  {
   "cell_type": "code",
   "execution_count": 1,
   "id": "6877157a",
   "metadata": {},
   "outputs": [],
   "source": [
    "from sqlalchemy import create_engine\n",
    "import pandas as pd\n",
    "\n",
    "# Windows Authentication (Trusted_Connection) - Connection to Local MSSQL Server\n",
    "conn_str = (\n",
    "    \"mssql+pyodbc://DESKTOP-2M488OT\\\\SQLEXPRESS/agoda\"\n",
    "    \"?driver=ODBC+Driver+17+for+SQL+Server\"\n",
    "    \"&trusted_connection=yes\"\n",
    ")\n",
    "\n",
    "engine = create_engine(conn_str)"
   ]
  },
  {
   "cell_type": "markdown",
   "id": "15feb372",
   "metadata": {},
   "source": [
    "The flights, hotels, and users tables are created using the following code."
   ]
  },
  {
   "cell_type": "code",
   "execution_count": 2,
   "id": "93d8e17a",
   "metadata": {},
   "outputs": [
    {
     "data": {
      "text/plain": [
       "83"
      ]
     },
     "execution_count": 2,
     "metadata": {},
     "output_type": "execute_result"
    }
   ],
   "source": [
    "# Load the CSV data into a DataFrame\n",
    "flights = pd.read_csv(\"data/flights.csv\")\n",
    "hotels = pd.read_csv(\"data/hotels.csv\")\n",
    "users = pd.read_csv(\"data/users.csv\")\n",
    "\n",
    "# Push the DataFrame to the MSSQL database (creating the table)\n",
    "flights.to_sql(\"flights\", con=engine, if_exists=\"replace\", index=False)\n",
    "hotels.to_sql(\"hotels\", con=engine, if_exists=\"replace\", index=False)\n",
    "users.to_sql(\"users\", con=engine, if_exists=\"replace\", index=False)"
   ]
  },
  {
   "cell_type": "markdown",
   "id": "13f4c2e3",
   "metadata": {},
   "source": [
    "## 1. Booking Trends By Demographic Factors"
   ]
  },
  {
   "cell_type": "markdown",
   "id": "95156fd6",
   "metadata": {},
   "source": [
    "### Gender"
   ]
  },
  {
   "cell_type": "markdown",
   "id": "9c8eb25e",
   "metadata": {},
   "source": [
    "The following query examines the number of flight bookings and the average flight prices by different genders. The results indicate even distribution of bookings among the different genders. The similar average prices allude that spending power or purchasing habit of Agoda's customers is not heavily dependent on gender."
   ]
  },
  {
   "cell_type": "code",
   "execution_count": 3,
   "id": "1b6986c5",
   "metadata": {},
   "outputs": [
    {
     "data": {
      "application/vnd.microsoft.datawrangler.viewer.v0+json": {
       "columns": [
        {
         "name": "index",
         "rawType": "int64",
         "type": "integer"
        },
        {
         "name": "gender",
         "rawType": "object",
         "type": "string"
        },
        {
         "name": "number_of_bookings",
         "rawType": "int64",
         "type": "integer"
        },
        {
         "name": "average_price",
         "rawType": "float64",
         "type": "float"
        }
       ],
       "conversionMethod": "pd.DataFrame",
       "ref": "c1a9b435-d60d-49c0-8116-9acfae952d88",
       "rows": [
        [
         "0",
         "female",
         "91580",
         "956.58"
        ],
        [
         "1",
         "male",
         "91248",
         "960.96"
        ],
        [
         "2",
         "none",
         "89060",
         "954.51"
        ]
       ],
       "shape": {
        "columns": 3,
        "rows": 3
       }
      },
      "text/html": [
       "<div>\n",
       "<style scoped>\n",
       "    .dataframe tbody tr th:only-of-type {\n",
       "        vertical-align: middle;\n",
       "    }\n",
       "\n",
       "    .dataframe tbody tr th {\n",
       "        vertical-align: top;\n",
       "    }\n",
       "\n",
       "    .dataframe thead th {\n",
       "        text-align: right;\n",
       "    }\n",
       "</style>\n",
       "<table border=\"1\" class=\"dataframe\">\n",
       "  <thead>\n",
       "    <tr style=\"text-align: right;\">\n",
       "      <th></th>\n",
       "      <th>gender</th>\n",
       "      <th>number_of_bookings</th>\n",
       "      <th>average_price</th>\n",
       "    </tr>\n",
       "  </thead>\n",
       "  <tbody>\n",
       "    <tr>\n",
       "      <th>0</th>\n",
       "      <td>female</td>\n",
       "      <td>91580</td>\n",
       "      <td>956.58</td>\n",
       "    </tr>\n",
       "    <tr>\n",
       "      <th>1</th>\n",
       "      <td>male</td>\n",
       "      <td>91248</td>\n",
       "      <td>960.96</td>\n",
       "    </tr>\n",
       "    <tr>\n",
       "      <th>2</th>\n",
       "      <td>none</td>\n",
       "      <td>89060</td>\n",
       "      <td>954.51</td>\n",
       "    </tr>\n",
       "  </tbody>\n",
       "</table>\n",
       "</div>"
      ],
      "text/plain": [
       "   gender  number_of_bookings  average_price\n",
       "0  female               91580         956.58\n",
       "1    male               91248         960.96\n",
       "2    none               89060         954.51"
      ]
     },
     "execution_count": 3,
     "metadata": {},
     "output_type": "execute_result"
    }
   ],
   "source": [
    "query = \"\"\"\n",
    "-- flight bookings contributed by different genders\n",
    "SELECT gender, COUNT(*) AS number_of_bookings, ROUND(AVG(price),2) AS average_price\n",
    "FROM flights \n",
    "INNER JOIN users \n",
    "ON flights.userCode = users.code\n",
    "GROUP BY gender;\n",
    "\"\"\"\n",
    "\n",
    "result = pd.read_sql(query, engine)\n",
    "\n",
    "result"
   ]
  },
  {
   "cell_type": "markdown",
   "id": "88eeebda",
   "metadata": {},
   "source": [
    "This query identifies the most popular travel destinations by gender, sorting the results in descending order by the number of bookings. Florianopolis is the top destination across all genders."
   ]
  },
  {
   "cell_type": "code",
   "execution_count": 4,
   "id": "4e2be758",
   "metadata": {},
   "outputs": [
    {
     "data": {
      "application/vnd.microsoft.datawrangler.viewer.v0+json": {
       "columns": [
        {
         "name": "index",
         "rawType": "int64",
         "type": "integer"
        },
        {
         "name": "to",
         "rawType": "object",
         "type": "string"
        },
        {
         "name": "gender",
         "rawType": "object",
         "type": "string"
        },
        {
         "name": "bookings",
         "rawType": "int64",
         "type": "integer"
        }
       ],
       "conversionMethod": "pd.DataFrame",
       "ref": "0b0242fe-3100-4dfa-88e3-99f768066710",
       "rows": [
        [
         "0",
         "Florianopolis (SC)",
         "female",
         "19567"
        ],
        [
         "1",
         "Aracaju (SE)",
         "female",
         "12626"
        ],
        [
         "2",
         "Campo Grande (MS)",
         "female",
         "11050"
        ],
        [
         "3",
         "Brasilia (DF)",
         "female",
         "10470"
        ],
        [
         "4",
         "Recife (PE)",
         "female",
         "10260"
        ],
        [
         "5",
         "Natal (RN)",
         "female",
         "8112"
        ],
        [
         "6",
         "Sao Paulo (SP)",
         "female",
         "8070"
        ],
        [
         "7",
         "Salvador (BH)",
         "female",
         "5718"
        ],
        [
         "8",
         "Rio de Janeiro (RJ)",
         "female",
         "5707"
        ],
        [
         "9",
         "Florianopolis (SC)",
         "male",
         "19914"
        ],
        [
         "10",
         "Aracaju (SE)",
         "male",
         "12385"
        ],
        [
         "11",
         "Campo Grande (MS)",
         "male",
         "11252"
        ],
        [
         "12",
         "Brasilia (DF)",
         "male",
         "9842"
        ],
        [
         "13",
         "Recife (PE)",
         "male",
         "9750"
        ],
        [
         "14",
         "Natal (RN)",
         "male",
         "8333"
        ],
        [
         "15",
         "Sao Paulo (SP)",
         "male",
         "8248"
        ],
        [
         "16",
         "Salvador (BH)",
         "male",
         "5875"
        ],
        [
         "17",
         "Rio de Janeiro (RJ)",
         "male",
         "5649"
        ],
        [
         "18",
         "Florianopolis (SC)",
         "none",
         "17836"
        ],
        [
         "19",
         "Campo Grande (MS)",
         "none",
         "12446"
        ],
        [
         "20",
         "Aracaju (SE)",
         "none",
         "12213"
        ],
        [
         "21",
         "Recife (PE)",
         "none",
         "10470"
        ],
        [
         "22",
         "Brasilia (DF)",
         "none",
         "10467"
        ],
        [
         "23",
         "Natal (RN)",
         "none",
         "7351"
        ],
        [
         "24",
         "Sao Paulo (SP)",
         "none",
         "7307"
        ],
        [
         "25",
         "Salvador (BH)",
         "none",
         "5511"
        ],
        [
         "26",
         "Rio de Janeiro (RJ)",
         "none",
         "5459"
        ]
       ],
       "shape": {
        "columns": 3,
        "rows": 27
       }
      },
      "text/html": [
       "<div>\n",
       "<style scoped>\n",
       "    .dataframe tbody tr th:only-of-type {\n",
       "        vertical-align: middle;\n",
       "    }\n",
       "\n",
       "    .dataframe tbody tr th {\n",
       "        vertical-align: top;\n",
       "    }\n",
       "\n",
       "    .dataframe thead th {\n",
       "        text-align: right;\n",
       "    }\n",
       "</style>\n",
       "<table border=\"1\" class=\"dataframe\">\n",
       "  <thead>\n",
       "    <tr style=\"text-align: right;\">\n",
       "      <th></th>\n",
       "      <th>to</th>\n",
       "      <th>gender</th>\n",
       "      <th>bookings</th>\n",
       "    </tr>\n",
       "  </thead>\n",
       "  <tbody>\n",
       "    <tr>\n",
       "      <th>0</th>\n",
       "      <td>Florianopolis (SC)</td>\n",
       "      <td>female</td>\n",
       "      <td>19567</td>\n",
       "    </tr>\n",
       "    <tr>\n",
       "      <th>1</th>\n",
       "      <td>Aracaju (SE)</td>\n",
       "      <td>female</td>\n",
       "      <td>12626</td>\n",
       "    </tr>\n",
       "    <tr>\n",
       "      <th>2</th>\n",
       "      <td>Campo Grande (MS)</td>\n",
       "      <td>female</td>\n",
       "      <td>11050</td>\n",
       "    </tr>\n",
       "    <tr>\n",
       "      <th>3</th>\n",
       "      <td>Brasilia (DF)</td>\n",
       "      <td>female</td>\n",
       "      <td>10470</td>\n",
       "    </tr>\n",
       "    <tr>\n",
       "      <th>4</th>\n",
       "      <td>Recife (PE)</td>\n",
       "      <td>female</td>\n",
       "      <td>10260</td>\n",
       "    </tr>\n",
       "    <tr>\n",
       "      <th>5</th>\n",
       "      <td>Natal (RN)</td>\n",
       "      <td>female</td>\n",
       "      <td>8112</td>\n",
       "    </tr>\n",
       "    <tr>\n",
       "      <th>6</th>\n",
       "      <td>Sao Paulo (SP)</td>\n",
       "      <td>female</td>\n",
       "      <td>8070</td>\n",
       "    </tr>\n",
       "    <tr>\n",
       "      <th>7</th>\n",
       "      <td>Salvador (BH)</td>\n",
       "      <td>female</td>\n",
       "      <td>5718</td>\n",
       "    </tr>\n",
       "    <tr>\n",
       "      <th>8</th>\n",
       "      <td>Rio de Janeiro (RJ)</td>\n",
       "      <td>female</td>\n",
       "      <td>5707</td>\n",
       "    </tr>\n",
       "    <tr>\n",
       "      <th>9</th>\n",
       "      <td>Florianopolis (SC)</td>\n",
       "      <td>male</td>\n",
       "      <td>19914</td>\n",
       "    </tr>\n",
       "    <tr>\n",
       "      <th>10</th>\n",
       "      <td>Aracaju (SE)</td>\n",
       "      <td>male</td>\n",
       "      <td>12385</td>\n",
       "    </tr>\n",
       "    <tr>\n",
       "      <th>11</th>\n",
       "      <td>Campo Grande (MS)</td>\n",
       "      <td>male</td>\n",
       "      <td>11252</td>\n",
       "    </tr>\n",
       "    <tr>\n",
       "      <th>12</th>\n",
       "      <td>Brasilia (DF)</td>\n",
       "      <td>male</td>\n",
       "      <td>9842</td>\n",
       "    </tr>\n",
       "    <tr>\n",
       "      <th>13</th>\n",
       "      <td>Recife (PE)</td>\n",
       "      <td>male</td>\n",
       "      <td>9750</td>\n",
       "    </tr>\n",
       "    <tr>\n",
       "      <th>14</th>\n",
       "      <td>Natal (RN)</td>\n",
       "      <td>male</td>\n",
       "      <td>8333</td>\n",
       "    </tr>\n",
       "    <tr>\n",
       "      <th>15</th>\n",
       "      <td>Sao Paulo (SP)</td>\n",
       "      <td>male</td>\n",
       "      <td>8248</td>\n",
       "    </tr>\n",
       "    <tr>\n",
       "      <th>16</th>\n",
       "      <td>Salvador (BH)</td>\n",
       "      <td>male</td>\n",
       "      <td>5875</td>\n",
       "    </tr>\n",
       "    <tr>\n",
       "      <th>17</th>\n",
       "      <td>Rio de Janeiro (RJ)</td>\n",
       "      <td>male</td>\n",
       "      <td>5649</td>\n",
       "    </tr>\n",
       "    <tr>\n",
       "      <th>18</th>\n",
       "      <td>Florianopolis (SC)</td>\n",
       "      <td>none</td>\n",
       "      <td>17836</td>\n",
       "    </tr>\n",
       "    <tr>\n",
       "      <th>19</th>\n",
       "      <td>Campo Grande (MS)</td>\n",
       "      <td>none</td>\n",
       "      <td>12446</td>\n",
       "    </tr>\n",
       "    <tr>\n",
       "      <th>20</th>\n",
       "      <td>Aracaju (SE)</td>\n",
       "      <td>none</td>\n",
       "      <td>12213</td>\n",
       "    </tr>\n",
       "    <tr>\n",
       "      <th>21</th>\n",
       "      <td>Recife (PE)</td>\n",
       "      <td>none</td>\n",
       "      <td>10470</td>\n",
       "    </tr>\n",
       "    <tr>\n",
       "      <th>22</th>\n",
       "      <td>Brasilia (DF)</td>\n",
       "      <td>none</td>\n",
       "      <td>10467</td>\n",
       "    </tr>\n",
       "    <tr>\n",
       "      <th>23</th>\n",
       "      <td>Natal (RN)</td>\n",
       "      <td>none</td>\n",
       "      <td>7351</td>\n",
       "    </tr>\n",
       "    <tr>\n",
       "      <th>24</th>\n",
       "      <td>Sao Paulo (SP)</td>\n",
       "      <td>none</td>\n",
       "      <td>7307</td>\n",
       "    </tr>\n",
       "    <tr>\n",
       "      <th>25</th>\n",
       "      <td>Salvador (BH)</td>\n",
       "      <td>none</td>\n",
       "      <td>5511</td>\n",
       "    </tr>\n",
       "    <tr>\n",
       "      <th>26</th>\n",
       "      <td>Rio de Janeiro (RJ)</td>\n",
       "      <td>none</td>\n",
       "      <td>5459</td>\n",
       "    </tr>\n",
       "  </tbody>\n",
       "</table>\n",
       "</div>"
      ],
      "text/plain": [
       "                     to  gender  bookings\n",
       "0    Florianopolis (SC)  female     19567\n",
       "1          Aracaju (SE)  female     12626\n",
       "2     Campo Grande (MS)  female     11050\n",
       "3         Brasilia (DF)  female     10470\n",
       "4           Recife (PE)  female     10260\n",
       "5            Natal (RN)  female      8112\n",
       "6        Sao Paulo (SP)  female      8070\n",
       "7         Salvador (BH)  female      5718\n",
       "8   Rio de Janeiro (RJ)  female      5707\n",
       "9    Florianopolis (SC)    male     19914\n",
       "10         Aracaju (SE)    male     12385\n",
       "11    Campo Grande (MS)    male     11252\n",
       "12        Brasilia (DF)    male      9842\n",
       "13          Recife (PE)    male      9750\n",
       "14           Natal (RN)    male      8333\n",
       "15       Sao Paulo (SP)    male      8248\n",
       "16        Salvador (BH)    male      5875\n",
       "17  Rio de Janeiro (RJ)    male      5649\n",
       "18   Florianopolis (SC)    none     17836\n",
       "19    Campo Grande (MS)    none     12446\n",
       "20         Aracaju (SE)    none     12213\n",
       "21          Recife (PE)    none     10470\n",
       "22        Brasilia (DF)    none     10467\n",
       "23           Natal (RN)    none      7351\n",
       "24       Sao Paulo (SP)    none      7307\n",
       "25        Salvador (BH)    none      5511\n",
       "26  Rio de Janeiro (RJ)    none      5459"
      ]
     },
     "execution_count": 4,
     "metadata": {},
     "output_type": "execute_result"
    }
   ],
   "source": [
    "query = \"\"\"\n",
    "-- popular destinations by gender\n",
    "SELECT flights.[to], users.gender, COUNT(*) AS bookings\n",
    "FROM flights\n",
    "INNER JOIN users\n",
    "ON flights.userCode = users.code\n",
    "GROUP BY flights.[to], users.gender\n",
    "ORDER BY 2,3 DESC;\n",
    "\"\"\"\n",
    "\n",
    "result = pd.read_sql(query, engine)\n",
    "\n",
    "result"
   ]
  },
  {
   "cell_type": "markdown",
   "id": "1a865750",
   "metadata": {},
   "source": [
    "### Age Group"
   ]
  },
  {
   "cell_type": "markdown",
   "id": "fbff196a",
   "metadata": {},
   "source": [
    "The following query examines the number of flight bookings and the average flight prices by age groups. The age group of 20-29 and 60-69 contribute less to the total number of flights booked. Meanwhile, the average flight price does not variable significantly among different age groups. "
   ]
  },
  {
   "cell_type": "code",
   "execution_count": 5,
   "id": "4987170b",
   "metadata": {},
   "outputs": [
    {
     "data": {
      "application/vnd.microsoft.datawrangler.viewer.v0+json": {
       "columns": [
        {
         "name": "index",
         "rawType": "int64",
         "type": "integer"
        },
        {
         "name": "age_group",
         "rawType": "object",
         "type": "string"
        },
        {
         "name": "number_of_bookings",
         "rawType": "int64",
         "type": "integer"
        },
        {
         "name": "average_price",
         "rawType": "float64",
         "type": "float"
        }
       ],
       "conversionMethod": "pd.DataFrame",
       "ref": "c42e180f-2c4c-45a5-87d3-28c62eafd267",
       "rows": [
        [
         "0",
         "20-29",
         "52956",
         "963.53"
        ],
        [
         "1",
         "30-39",
         "64670",
         "962.19"
        ],
        [
         "2",
         "40-49",
         "61548",
         "953.59"
        ],
        [
         "3",
         "50-59",
         "57260",
         "957.44"
        ],
        [
         "4",
         "60-69",
         "35454",
         "945.87"
        ]
       ],
       "shape": {
        "columns": 3,
        "rows": 5
       }
      },
      "text/html": [
       "<div>\n",
       "<style scoped>\n",
       "    .dataframe tbody tr th:only-of-type {\n",
       "        vertical-align: middle;\n",
       "    }\n",
       "\n",
       "    .dataframe tbody tr th {\n",
       "        vertical-align: top;\n",
       "    }\n",
       "\n",
       "    .dataframe thead th {\n",
       "        text-align: right;\n",
       "    }\n",
       "</style>\n",
       "<table border=\"1\" class=\"dataframe\">\n",
       "  <thead>\n",
       "    <tr style=\"text-align: right;\">\n",
       "      <th></th>\n",
       "      <th>age_group</th>\n",
       "      <th>number_of_bookings</th>\n",
       "      <th>average_price</th>\n",
       "    </tr>\n",
       "  </thead>\n",
       "  <tbody>\n",
       "    <tr>\n",
       "      <th>0</th>\n",
       "      <td>20-29</td>\n",
       "      <td>52956</td>\n",
       "      <td>963.53</td>\n",
       "    </tr>\n",
       "    <tr>\n",
       "      <th>1</th>\n",
       "      <td>30-39</td>\n",
       "      <td>64670</td>\n",
       "      <td>962.19</td>\n",
       "    </tr>\n",
       "    <tr>\n",
       "      <th>2</th>\n",
       "      <td>40-49</td>\n",
       "      <td>61548</td>\n",
       "      <td>953.59</td>\n",
       "    </tr>\n",
       "    <tr>\n",
       "      <th>3</th>\n",
       "      <td>50-59</td>\n",
       "      <td>57260</td>\n",
       "      <td>957.44</td>\n",
       "    </tr>\n",
       "    <tr>\n",
       "      <th>4</th>\n",
       "      <td>60-69</td>\n",
       "      <td>35454</td>\n",
       "      <td>945.87</td>\n",
       "    </tr>\n",
       "  </tbody>\n",
       "</table>\n",
       "</div>"
      ],
      "text/plain": [
       "  age_group  number_of_bookings  average_price\n",
       "0     20-29               52956         963.53\n",
       "1     30-39               64670         962.19\n",
       "2     40-49               61548         953.59\n",
       "3     50-59               57260         957.44\n",
       "4     60-69               35454         945.87"
      ]
     },
     "execution_count": 5,
     "metadata": {},
     "output_type": "execute_result"
    }
   ],
   "source": [
    "query = \"\"\"\n",
    "-- flights by age group\n",
    "SELECT \n",
    "    CONCAT(floor(age/10)*10,'-',floor(age/10)*10+9) AS age_group, \n",
    "    COUNT(*) AS number_of_bookings, \n",
    "    ROUND(AVG(price),2) AS average_price\n",
    "FROM flights \n",
    "INNER JOIN users \n",
    "ON flights.userCode = users.code\n",
    "GROUP BY floor(age/10)*10\n",
    "ORDER BY 1;\n",
    "\"\"\"\n",
    "\n",
    "result = pd.read_sql(query, engine)\n",
    "\n",
    "result"
   ]
  },
  {
   "cell_type": "markdown",
   "id": "f79f289b",
   "metadata": {},
   "source": [
    "This query identifies the most popular travel destinations across age groups, sorting the results in descending order by the number of bookings. Florianopolis is the top destination across all age groups."
   ]
  },
  {
   "cell_type": "code",
   "execution_count": 6,
   "id": "3ff6a9ec",
   "metadata": {},
   "outputs": [
    {
     "data": {
      "application/vnd.microsoft.datawrangler.viewer.v0+json": {
       "columns": [
        {
         "name": "index",
         "rawType": "int64",
         "type": "integer"
        },
        {
         "name": "to",
         "rawType": "object",
         "type": "string"
        },
        {
         "name": "age_group",
         "rawType": "object",
         "type": "string"
        },
        {
         "name": "bookings",
         "rawType": "int64",
         "type": "integer"
        }
       ],
       "conversionMethod": "pd.DataFrame",
       "ref": "14532ae4-d82d-4e2c-8427-60ac2b06c7d3",
       "rows": [
        [
         "0",
         "Florianopolis (SC)",
         "20-29",
         "12180"
        ],
        [
         "1",
         "Aracaju (SE)",
         "20-29",
         "7050"
        ],
        [
         "2",
         "Campo Grande (MS)",
         "20-29",
         "6008"
        ],
        [
         "3",
         "Brasilia (DF)",
         "20-29",
         "5891"
        ],
        [
         "4",
         "Recife (PE)",
         "20-29",
         "5804"
        ],
        [
         "5",
         "Sao Paulo (SP)",
         "20-29",
         "4701"
        ],
        [
         "6",
         "Natal (RN)",
         "20-29",
         "4665"
        ],
        [
         "7",
         "Rio de Janeiro (RJ)",
         "20-29",
         "3347"
        ],
        [
         "8",
         "Salvador (BH)",
         "20-29",
         "3310"
        ],
        [
         "9",
         "Florianopolis (SC)",
         "30-39",
         "14433"
        ],
        [
         "10",
         "Aracaju (SE)",
         "30-39",
         "8823"
        ],
        [
         "11",
         "Campo Grande (MS)",
         "30-39",
         "7596"
        ],
        [
         "12",
         "Recife (PE)",
         "30-39",
         "7361"
        ],
        [
         "13",
         "Brasilia (DF)",
         "30-39",
         "7241"
        ],
        [
         "14",
         "Natal (RN)",
         "30-39",
         "5573"
        ],
        [
         "15",
         "Sao Paulo (SP)",
         "30-39",
         "5539"
        ],
        [
         "16",
         "Salvador (BH)",
         "30-39",
         "4063"
        ],
        [
         "17",
         "Rio de Janeiro (RJ)",
         "30-39",
         "4041"
        ],
        [
         "18",
         "Florianopolis (SC)",
         "40-49",
         "12143"
        ],
        [
         "19",
         "Aracaju (SE)",
         "40-49",
         "8615"
        ],
        [
         "20",
         "Campo Grande (MS)",
         "40-49",
         "8149"
        ],
        [
         "21",
         "Brasilia (DF)",
         "40-49",
         "7208"
        ],
        [
         "22",
         "Recife (PE)",
         "40-49",
         "7162"
        ],
        [
         "23",
         "Natal (RN)",
         "40-49",
         "5421"
        ],
        [
         "24",
         "Sao Paulo (SP)",
         "40-49",
         "5153"
        ],
        [
         "25",
         "Salvador (BH)",
         "40-49",
         "3879"
        ],
        [
         "26",
         "Rio de Janeiro (RJ)",
         "40-49",
         "3818"
        ],
        [
         "27",
         "Florianopolis (SC)",
         "50-59",
         "11924"
        ],
        [
         "28",
         "Aracaju (SE)",
         "50-59",
         "7919"
        ],
        [
         "29",
         "Campo Grande (MS)",
         "50-59",
         "7372"
        ],
        [
         "30",
         "Brasilia (DF)",
         "50-59",
         "6555"
        ],
        [
         "31",
         "Recife (PE)",
         "50-59",
         "6413"
        ],
        [
         "32",
         "Sao Paulo (SP)",
         "50-59",
         "5026"
        ],
        [
         "33",
         "Natal (RN)",
         "50-59",
         "4918"
        ],
        [
         "34",
         "Salvador (BH)",
         "50-59",
         "3643"
        ],
        [
         "35",
         "Rio de Janeiro (RJ)",
         "50-59",
         "3490"
        ],
        [
         "36",
         "Florianopolis (SC)",
         "60-69",
         "6637"
        ],
        [
         "37",
         "Campo Grande (MS)",
         "60-69",
         "5623"
        ],
        [
         "38",
         "Aracaju (SE)",
         "60-69",
         "4817"
        ],
        [
         "39",
         "Brasilia (DF)",
         "60-69",
         "3884"
        ],
        [
         "40",
         "Recife (PE)",
         "60-69",
         "3740"
        ],
        [
         "41",
         "Natal (RN)",
         "60-69",
         "3219"
        ],
        [
         "42",
         "Sao Paulo (SP)",
         "60-69",
         "3206"
        ],
        [
         "43",
         "Salvador (BH)",
         "60-69",
         "2209"
        ],
        [
         "44",
         "Rio de Janeiro (RJ)",
         "60-69",
         "2119"
        ]
       ],
       "shape": {
        "columns": 3,
        "rows": 45
       }
      },
      "text/html": [
       "<div>\n",
       "<style scoped>\n",
       "    .dataframe tbody tr th:only-of-type {\n",
       "        vertical-align: middle;\n",
       "    }\n",
       "\n",
       "    .dataframe tbody tr th {\n",
       "        vertical-align: top;\n",
       "    }\n",
       "\n",
       "    .dataframe thead th {\n",
       "        text-align: right;\n",
       "    }\n",
       "</style>\n",
       "<table border=\"1\" class=\"dataframe\">\n",
       "  <thead>\n",
       "    <tr style=\"text-align: right;\">\n",
       "      <th></th>\n",
       "      <th>to</th>\n",
       "      <th>age_group</th>\n",
       "      <th>bookings</th>\n",
       "    </tr>\n",
       "  </thead>\n",
       "  <tbody>\n",
       "    <tr>\n",
       "      <th>0</th>\n",
       "      <td>Florianopolis (SC)</td>\n",
       "      <td>20-29</td>\n",
       "      <td>12180</td>\n",
       "    </tr>\n",
       "    <tr>\n",
       "      <th>1</th>\n",
       "      <td>Aracaju (SE)</td>\n",
       "      <td>20-29</td>\n",
       "      <td>7050</td>\n",
       "    </tr>\n",
       "    <tr>\n",
       "      <th>2</th>\n",
       "      <td>Campo Grande (MS)</td>\n",
       "      <td>20-29</td>\n",
       "      <td>6008</td>\n",
       "    </tr>\n",
       "    <tr>\n",
       "      <th>3</th>\n",
       "      <td>Brasilia (DF)</td>\n",
       "      <td>20-29</td>\n",
       "      <td>5891</td>\n",
       "    </tr>\n",
       "    <tr>\n",
       "      <th>4</th>\n",
       "      <td>Recife (PE)</td>\n",
       "      <td>20-29</td>\n",
       "      <td>5804</td>\n",
       "    </tr>\n",
       "    <tr>\n",
       "      <th>5</th>\n",
       "      <td>Sao Paulo (SP)</td>\n",
       "      <td>20-29</td>\n",
       "      <td>4701</td>\n",
       "    </tr>\n",
       "    <tr>\n",
       "      <th>6</th>\n",
       "      <td>Natal (RN)</td>\n",
       "      <td>20-29</td>\n",
       "      <td>4665</td>\n",
       "    </tr>\n",
       "    <tr>\n",
       "      <th>7</th>\n",
       "      <td>Rio de Janeiro (RJ)</td>\n",
       "      <td>20-29</td>\n",
       "      <td>3347</td>\n",
       "    </tr>\n",
       "    <tr>\n",
       "      <th>8</th>\n",
       "      <td>Salvador (BH)</td>\n",
       "      <td>20-29</td>\n",
       "      <td>3310</td>\n",
       "    </tr>\n",
       "    <tr>\n",
       "      <th>9</th>\n",
       "      <td>Florianopolis (SC)</td>\n",
       "      <td>30-39</td>\n",
       "      <td>14433</td>\n",
       "    </tr>\n",
       "    <tr>\n",
       "      <th>10</th>\n",
       "      <td>Aracaju (SE)</td>\n",
       "      <td>30-39</td>\n",
       "      <td>8823</td>\n",
       "    </tr>\n",
       "    <tr>\n",
       "      <th>11</th>\n",
       "      <td>Campo Grande (MS)</td>\n",
       "      <td>30-39</td>\n",
       "      <td>7596</td>\n",
       "    </tr>\n",
       "    <tr>\n",
       "      <th>12</th>\n",
       "      <td>Recife (PE)</td>\n",
       "      <td>30-39</td>\n",
       "      <td>7361</td>\n",
       "    </tr>\n",
       "    <tr>\n",
       "      <th>13</th>\n",
       "      <td>Brasilia (DF)</td>\n",
       "      <td>30-39</td>\n",
       "      <td>7241</td>\n",
       "    </tr>\n",
       "    <tr>\n",
       "      <th>14</th>\n",
       "      <td>Natal (RN)</td>\n",
       "      <td>30-39</td>\n",
       "      <td>5573</td>\n",
       "    </tr>\n",
       "    <tr>\n",
       "      <th>15</th>\n",
       "      <td>Sao Paulo (SP)</td>\n",
       "      <td>30-39</td>\n",
       "      <td>5539</td>\n",
       "    </tr>\n",
       "    <tr>\n",
       "      <th>16</th>\n",
       "      <td>Salvador (BH)</td>\n",
       "      <td>30-39</td>\n",
       "      <td>4063</td>\n",
       "    </tr>\n",
       "    <tr>\n",
       "      <th>17</th>\n",
       "      <td>Rio de Janeiro (RJ)</td>\n",
       "      <td>30-39</td>\n",
       "      <td>4041</td>\n",
       "    </tr>\n",
       "    <tr>\n",
       "      <th>18</th>\n",
       "      <td>Florianopolis (SC)</td>\n",
       "      <td>40-49</td>\n",
       "      <td>12143</td>\n",
       "    </tr>\n",
       "    <tr>\n",
       "      <th>19</th>\n",
       "      <td>Aracaju (SE)</td>\n",
       "      <td>40-49</td>\n",
       "      <td>8615</td>\n",
       "    </tr>\n",
       "    <tr>\n",
       "      <th>20</th>\n",
       "      <td>Campo Grande (MS)</td>\n",
       "      <td>40-49</td>\n",
       "      <td>8149</td>\n",
       "    </tr>\n",
       "    <tr>\n",
       "      <th>21</th>\n",
       "      <td>Brasilia (DF)</td>\n",
       "      <td>40-49</td>\n",
       "      <td>7208</td>\n",
       "    </tr>\n",
       "    <tr>\n",
       "      <th>22</th>\n",
       "      <td>Recife (PE)</td>\n",
       "      <td>40-49</td>\n",
       "      <td>7162</td>\n",
       "    </tr>\n",
       "    <tr>\n",
       "      <th>23</th>\n",
       "      <td>Natal (RN)</td>\n",
       "      <td>40-49</td>\n",
       "      <td>5421</td>\n",
       "    </tr>\n",
       "    <tr>\n",
       "      <th>24</th>\n",
       "      <td>Sao Paulo (SP)</td>\n",
       "      <td>40-49</td>\n",
       "      <td>5153</td>\n",
       "    </tr>\n",
       "    <tr>\n",
       "      <th>25</th>\n",
       "      <td>Salvador (BH)</td>\n",
       "      <td>40-49</td>\n",
       "      <td>3879</td>\n",
       "    </tr>\n",
       "    <tr>\n",
       "      <th>26</th>\n",
       "      <td>Rio de Janeiro (RJ)</td>\n",
       "      <td>40-49</td>\n",
       "      <td>3818</td>\n",
       "    </tr>\n",
       "    <tr>\n",
       "      <th>27</th>\n",
       "      <td>Florianopolis (SC)</td>\n",
       "      <td>50-59</td>\n",
       "      <td>11924</td>\n",
       "    </tr>\n",
       "    <tr>\n",
       "      <th>28</th>\n",
       "      <td>Aracaju (SE)</td>\n",
       "      <td>50-59</td>\n",
       "      <td>7919</td>\n",
       "    </tr>\n",
       "    <tr>\n",
       "      <th>29</th>\n",
       "      <td>Campo Grande (MS)</td>\n",
       "      <td>50-59</td>\n",
       "      <td>7372</td>\n",
       "    </tr>\n",
       "    <tr>\n",
       "      <th>30</th>\n",
       "      <td>Brasilia (DF)</td>\n",
       "      <td>50-59</td>\n",
       "      <td>6555</td>\n",
       "    </tr>\n",
       "    <tr>\n",
       "      <th>31</th>\n",
       "      <td>Recife (PE)</td>\n",
       "      <td>50-59</td>\n",
       "      <td>6413</td>\n",
       "    </tr>\n",
       "    <tr>\n",
       "      <th>32</th>\n",
       "      <td>Sao Paulo (SP)</td>\n",
       "      <td>50-59</td>\n",
       "      <td>5026</td>\n",
       "    </tr>\n",
       "    <tr>\n",
       "      <th>33</th>\n",
       "      <td>Natal (RN)</td>\n",
       "      <td>50-59</td>\n",
       "      <td>4918</td>\n",
       "    </tr>\n",
       "    <tr>\n",
       "      <th>34</th>\n",
       "      <td>Salvador (BH)</td>\n",
       "      <td>50-59</td>\n",
       "      <td>3643</td>\n",
       "    </tr>\n",
       "    <tr>\n",
       "      <th>35</th>\n",
       "      <td>Rio de Janeiro (RJ)</td>\n",
       "      <td>50-59</td>\n",
       "      <td>3490</td>\n",
       "    </tr>\n",
       "    <tr>\n",
       "      <th>36</th>\n",
       "      <td>Florianopolis (SC)</td>\n",
       "      <td>60-69</td>\n",
       "      <td>6637</td>\n",
       "    </tr>\n",
       "    <tr>\n",
       "      <th>37</th>\n",
       "      <td>Campo Grande (MS)</td>\n",
       "      <td>60-69</td>\n",
       "      <td>5623</td>\n",
       "    </tr>\n",
       "    <tr>\n",
       "      <th>38</th>\n",
       "      <td>Aracaju (SE)</td>\n",
       "      <td>60-69</td>\n",
       "      <td>4817</td>\n",
       "    </tr>\n",
       "    <tr>\n",
       "      <th>39</th>\n",
       "      <td>Brasilia (DF)</td>\n",
       "      <td>60-69</td>\n",
       "      <td>3884</td>\n",
       "    </tr>\n",
       "    <tr>\n",
       "      <th>40</th>\n",
       "      <td>Recife (PE)</td>\n",
       "      <td>60-69</td>\n",
       "      <td>3740</td>\n",
       "    </tr>\n",
       "    <tr>\n",
       "      <th>41</th>\n",
       "      <td>Natal (RN)</td>\n",
       "      <td>60-69</td>\n",
       "      <td>3219</td>\n",
       "    </tr>\n",
       "    <tr>\n",
       "      <th>42</th>\n",
       "      <td>Sao Paulo (SP)</td>\n",
       "      <td>60-69</td>\n",
       "      <td>3206</td>\n",
       "    </tr>\n",
       "    <tr>\n",
       "      <th>43</th>\n",
       "      <td>Salvador (BH)</td>\n",
       "      <td>60-69</td>\n",
       "      <td>2209</td>\n",
       "    </tr>\n",
       "    <tr>\n",
       "      <th>44</th>\n",
       "      <td>Rio de Janeiro (RJ)</td>\n",
       "      <td>60-69</td>\n",
       "      <td>2119</td>\n",
       "    </tr>\n",
       "  </tbody>\n",
       "</table>\n",
       "</div>"
      ],
      "text/plain": [
       "                     to age_group  bookings\n",
       "0    Florianopolis (SC)     20-29     12180\n",
       "1          Aracaju (SE)     20-29      7050\n",
       "2     Campo Grande (MS)     20-29      6008\n",
       "3         Brasilia (DF)     20-29      5891\n",
       "4           Recife (PE)     20-29      5804\n",
       "5        Sao Paulo (SP)     20-29      4701\n",
       "6            Natal (RN)     20-29      4665\n",
       "7   Rio de Janeiro (RJ)     20-29      3347\n",
       "8         Salvador (BH)     20-29      3310\n",
       "9    Florianopolis (SC)     30-39     14433\n",
       "10         Aracaju (SE)     30-39      8823\n",
       "11    Campo Grande (MS)     30-39      7596\n",
       "12          Recife (PE)     30-39      7361\n",
       "13        Brasilia (DF)     30-39      7241\n",
       "14           Natal (RN)     30-39      5573\n",
       "15       Sao Paulo (SP)     30-39      5539\n",
       "16        Salvador (BH)     30-39      4063\n",
       "17  Rio de Janeiro (RJ)     30-39      4041\n",
       "18   Florianopolis (SC)     40-49     12143\n",
       "19         Aracaju (SE)     40-49      8615\n",
       "20    Campo Grande (MS)     40-49      8149\n",
       "21        Brasilia (DF)     40-49      7208\n",
       "22          Recife (PE)     40-49      7162\n",
       "23           Natal (RN)     40-49      5421\n",
       "24       Sao Paulo (SP)     40-49      5153\n",
       "25        Salvador (BH)     40-49      3879\n",
       "26  Rio de Janeiro (RJ)     40-49      3818\n",
       "27   Florianopolis (SC)     50-59     11924\n",
       "28         Aracaju (SE)     50-59      7919\n",
       "29    Campo Grande (MS)     50-59      7372\n",
       "30        Brasilia (DF)     50-59      6555\n",
       "31          Recife (PE)     50-59      6413\n",
       "32       Sao Paulo (SP)     50-59      5026\n",
       "33           Natal (RN)     50-59      4918\n",
       "34        Salvador (BH)     50-59      3643\n",
       "35  Rio de Janeiro (RJ)     50-59      3490\n",
       "36   Florianopolis (SC)     60-69      6637\n",
       "37    Campo Grande (MS)     60-69      5623\n",
       "38         Aracaju (SE)     60-69      4817\n",
       "39        Brasilia (DF)     60-69      3884\n",
       "40          Recife (PE)     60-69      3740\n",
       "41           Natal (RN)     60-69      3219\n",
       "42       Sao Paulo (SP)     60-69      3206\n",
       "43        Salvador (BH)     60-69      2209\n",
       "44  Rio de Janeiro (RJ)     60-69      2119"
      ]
     },
     "execution_count": 6,
     "metadata": {},
     "output_type": "execute_result"
    }
   ],
   "source": [
    "query = \"\"\"\n",
    "-- popular destinations by age group\n",
    "SELECT \n",
    "    flights.[to], \n",
    "    CONCAT(floor(age/10)*10,'-',floor(age/10)*10+9) AS age_group, \n",
    "    COUNT(*) AS bookings\n",
    "FROM flights\n",
    "INNER JOIN users\n",
    "ON flights.userCode = users.code\n",
    "GROUP BY flights.[to], floor(age/10)*10\n",
    "ORDER BY 2,3 DESC;\n",
    "\"\"\"\n",
    "\n",
    "result = pd.read_sql(query, engine)\n",
    "\n",
    "result"
   ]
  },
  {
   "cell_type": "markdown",
   "id": "ca042832",
   "metadata": {},
   "source": [
    "## 2. Flight and Hotel Bookings Monthly Revenue Trends"
   ]
  },
  {
   "cell_type": "markdown",
   "id": "f9843cef",
   "metadata": {},
   "source": [
    "This query calculates the total flights and hotel stays for each month by combining records from flights and hotels."
   ]
  },
  {
   "cell_type": "code",
   "execution_count": 7,
   "id": "61e6ff47",
   "metadata": {},
   "outputs": [
    {
     "data": {
      "application/vnd.microsoft.datawrangler.viewer.v0+json": {
       "columns": [
        {
         "name": "index",
         "rawType": "int64",
         "type": "integer"
        },
        {
         "name": "travel_month",
         "rawType": "int64",
         "type": "integer"
        },
        {
         "name": "flight_bookings",
         "rawType": "int64",
         "type": "integer"
        },
        {
         "name": "hotel_bookings",
         "rawType": "int64",
         "type": "integer"
        },
        {
         "name": "total_bookings",
         "rawType": "int64",
         "type": "integer"
        }
       ],
       "conversionMethod": "pd.DataFrame",
       "ref": "1515b082-aac6-4ce2-ad34-a62109b1d5de",
       "rows": [
        [
         "0",
         "10",
         "28980",
         "4504",
         "33484"
        ],
        [
         "1",
         "12",
         "26346",
         "4052",
         "30398"
        ],
        [
         "2",
         "11",
         "25764",
         "3634",
         "29398"
        ],
        [
         "3",
         "1",
         "25587",
         "3775",
         "29362"
        ],
        [
         "4",
         "4",
         "22607",
         "3576",
         "26183"
        ],
        [
         "5",
         "3",
         "22741",
         "3380",
         "26121"
        ],
        [
         "6",
         "2",
         "22387",
         "3284",
         "25671"
        ],
        [
         "7",
         "5",
         "20968",
         "2871",
         "23839"
        ],
        [
         "8",
         "7",
         "20113",
         "3079",
         "23192"
        ],
        [
         "9",
         "9",
         "19468",
         "3011",
         "22479"
        ],
        [
         "10",
         "6",
         "19061",
         "2858",
         "21919"
        ],
        [
         "11",
         "8",
         "17866",
         "2528",
         "20394"
        ]
       ],
       "shape": {
        "columns": 4,
        "rows": 12
       }
      },
      "text/html": [
       "<div>\n",
       "<style scoped>\n",
       "    .dataframe tbody tr th:only-of-type {\n",
       "        vertical-align: middle;\n",
       "    }\n",
       "\n",
       "    .dataframe tbody tr th {\n",
       "        vertical-align: top;\n",
       "    }\n",
       "\n",
       "    .dataframe thead th {\n",
       "        text-align: right;\n",
       "    }\n",
       "</style>\n",
       "<table border=\"1\" class=\"dataframe\">\n",
       "  <thead>\n",
       "    <tr style=\"text-align: right;\">\n",
       "      <th></th>\n",
       "      <th>travel_month</th>\n",
       "      <th>flight_bookings</th>\n",
       "      <th>hotel_bookings</th>\n",
       "      <th>total_bookings</th>\n",
       "    </tr>\n",
       "  </thead>\n",
       "  <tbody>\n",
       "    <tr>\n",
       "      <th>0</th>\n",
       "      <td>10</td>\n",
       "      <td>28980</td>\n",
       "      <td>4504</td>\n",
       "      <td>33484</td>\n",
       "    </tr>\n",
       "    <tr>\n",
       "      <th>1</th>\n",
       "      <td>12</td>\n",
       "      <td>26346</td>\n",
       "      <td>4052</td>\n",
       "      <td>30398</td>\n",
       "    </tr>\n",
       "    <tr>\n",
       "      <th>2</th>\n",
       "      <td>11</td>\n",
       "      <td>25764</td>\n",
       "      <td>3634</td>\n",
       "      <td>29398</td>\n",
       "    </tr>\n",
       "    <tr>\n",
       "      <th>3</th>\n",
       "      <td>1</td>\n",
       "      <td>25587</td>\n",
       "      <td>3775</td>\n",
       "      <td>29362</td>\n",
       "    </tr>\n",
       "    <tr>\n",
       "      <th>4</th>\n",
       "      <td>4</td>\n",
       "      <td>22607</td>\n",
       "      <td>3576</td>\n",
       "      <td>26183</td>\n",
       "    </tr>\n",
       "    <tr>\n",
       "      <th>5</th>\n",
       "      <td>3</td>\n",
       "      <td>22741</td>\n",
       "      <td>3380</td>\n",
       "      <td>26121</td>\n",
       "    </tr>\n",
       "    <tr>\n",
       "      <th>6</th>\n",
       "      <td>2</td>\n",
       "      <td>22387</td>\n",
       "      <td>3284</td>\n",
       "      <td>25671</td>\n",
       "    </tr>\n",
       "    <tr>\n",
       "      <th>7</th>\n",
       "      <td>5</td>\n",
       "      <td>20968</td>\n",
       "      <td>2871</td>\n",
       "      <td>23839</td>\n",
       "    </tr>\n",
       "    <tr>\n",
       "      <th>8</th>\n",
       "      <td>7</td>\n",
       "      <td>20113</td>\n",
       "      <td>3079</td>\n",
       "      <td>23192</td>\n",
       "    </tr>\n",
       "    <tr>\n",
       "      <th>9</th>\n",
       "      <td>9</td>\n",
       "      <td>19468</td>\n",
       "      <td>3011</td>\n",
       "      <td>22479</td>\n",
       "    </tr>\n",
       "    <tr>\n",
       "      <th>10</th>\n",
       "      <td>6</td>\n",
       "      <td>19061</td>\n",
       "      <td>2858</td>\n",
       "      <td>21919</td>\n",
       "    </tr>\n",
       "    <tr>\n",
       "      <th>11</th>\n",
       "      <td>8</td>\n",
       "      <td>17866</td>\n",
       "      <td>2528</td>\n",
       "      <td>20394</td>\n",
       "    </tr>\n",
       "  </tbody>\n",
       "</table>\n",
       "</div>"
      ],
      "text/plain": [
       "    travel_month  flight_bookings  hotel_bookings  total_bookings\n",
       "0             10            28980            4504           33484\n",
       "1             12            26346            4052           30398\n",
       "2             11            25764            3634           29398\n",
       "3              1            25587            3775           29362\n",
       "4              4            22607            3576           26183\n",
       "5              3            22741            3380           26121\n",
       "6              2            22387            3284           25671\n",
       "7              5            20968            2871           23839\n",
       "8              7            20113            3079           23192\n",
       "9              9            19468            3011           22479\n",
       "10             6            19061            2858           21919\n",
       "11             8            17866            2528           20394"
      ]
     },
     "execution_count": 7,
     "metadata": {},
     "output_type": "execute_result"
    }
   ],
   "source": [
    "query = \"\"\"\n",
    "-- bookings by months\n",
    "SELECT a.travel_month, a.flight_bookings, b.hotel_bookings, a.flight_bookings+b.hotel_bookings AS total_bookings\n",
    "FROM (\n",
    "\tSELECT MONTH(date) AS travel_month, COUNT(*) AS flight_bookings\n",
    "\tFROM flights\n",
    "\tGROUP BY MONTH(date)\n",
    "\t) AS a\n",
    "INNER JOIN (\n",
    "\tSELECT MONTH(date) AS travel_month, COUNT(*) AS hotel_bookings\n",
    "\tFROM hotels\n",
    "\tGROUP BY MONTH(date)\n",
    "\t) AS b\n",
    "ON a.travel_month = b.travel_month\n",
    "ORDER BY 4 DESC;\n",
    "\"\"\"\n",
    "\n",
    "result = pd.read_sql(query, engine)\n",
    "\n",
    "result"
   ]
  },
  {
   "cell_type": "markdown",
   "id": "73598164",
   "metadata": {},
   "source": [
    "This query calculates the total revenue generated each month by combining revenue from flights and hotels."
   ]
  },
  {
   "cell_type": "code",
   "execution_count": 8,
   "id": "46b71d49",
   "metadata": {},
   "outputs": [
    {
     "data": {
      "application/vnd.microsoft.datawrangler.viewer.v0+json": {
       "columns": [
        {
         "name": "index",
         "rawType": "int64",
         "type": "integer"
        },
        {
         "name": "travel_month",
         "rawType": "int64",
         "type": "integer"
        },
        {
         "name": "flight_revenue",
         "rawType": "float64",
         "type": "float"
        },
        {
         "name": "hotel_revenue",
         "rawType": "float64",
         "type": "float"
        },
        {
         "name": "total_revenue",
         "rawType": "float64",
         "type": "float"
        }
       ],
       "conversionMethod": "pd.DataFrame",
       "ref": "07b79b53-ecf6-45cd-b43e-cb75c3bdfebf",
       "rows": [
        [
         "0",
         "10",
         "27663040.66",
         "2417426.96",
         "30080467.62"
        ],
        [
         "1",
         "12",
         "25197015.56",
         "2182197.21",
         "27379212.77"
        ],
        [
         "2",
         "11",
         "24672328.58",
         "1948201.51",
         "26620530.09"
        ],
        [
         "3",
         "1",
         "24334009.62",
         "1990376.79",
         "26324386.41"
        ],
        [
         "4",
         "3",
         "21820447.99",
         "1817208.18",
         "23637656.17"
        ],
        [
         "5",
         "4",
         "21599832.6",
         "1909806.3",
         "23509638.9"
        ],
        [
         "6",
         "2",
         "21455153.5",
         "1767709.29",
         "23222862.79"
        ],
        [
         "7",
         "5",
         "20185235.75",
         "1543882.23",
         "21729117.98"
        ],
        [
         "8",
         "7",
         "19335078.33",
         "1646520.04",
         "20981598.37"
        ],
        [
         "9",
         "9",
         "18565907.08",
         "1601906.05",
         "20167813.13"
        ],
        [
         "10",
         "6",
         "18350698.49",
         "1545321.28",
         "19896019.77"
        ],
        [
         "11",
         "8",
         "17120033.98",
         "1374623.37",
         "18494657.35"
        ]
       ],
       "shape": {
        "columns": 4,
        "rows": 12
       }
      },
      "text/html": [
       "<div>\n",
       "<style scoped>\n",
       "    .dataframe tbody tr th:only-of-type {\n",
       "        vertical-align: middle;\n",
       "    }\n",
       "\n",
       "    .dataframe tbody tr th {\n",
       "        vertical-align: top;\n",
       "    }\n",
       "\n",
       "    .dataframe thead th {\n",
       "        text-align: right;\n",
       "    }\n",
       "</style>\n",
       "<table border=\"1\" class=\"dataframe\">\n",
       "  <thead>\n",
       "    <tr style=\"text-align: right;\">\n",
       "      <th></th>\n",
       "      <th>travel_month</th>\n",
       "      <th>flight_revenue</th>\n",
       "      <th>hotel_revenue</th>\n",
       "      <th>total_revenue</th>\n",
       "    </tr>\n",
       "  </thead>\n",
       "  <tbody>\n",
       "    <tr>\n",
       "      <th>0</th>\n",
       "      <td>10</td>\n",
       "      <td>27663040.66</td>\n",
       "      <td>2417426.96</td>\n",
       "      <td>30080467.62</td>\n",
       "    </tr>\n",
       "    <tr>\n",
       "      <th>1</th>\n",
       "      <td>12</td>\n",
       "      <td>25197015.56</td>\n",
       "      <td>2182197.21</td>\n",
       "      <td>27379212.77</td>\n",
       "    </tr>\n",
       "    <tr>\n",
       "      <th>2</th>\n",
       "      <td>11</td>\n",
       "      <td>24672328.58</td>\n",
       "      <td>1948201.51</td>\n",
       "      <td>26620530.09</td>\n",
       "    </tr>\n",
       "    <tr>\n",
       "      <th>3</th>\n",
       "      <td>1</td>\n",
       "      <td>24334009.62</td>\n",
       "      <td>1990376.79</td>\n",
       "      <td>26324386.41</td>\n",
       "    </tr>\n",
       "    <tr>\n",
       "      <th>4</th>\n",
       "      <td>3</td>\n",
       "      <td>21820447.99</td>\n",
       "      <td>1817208.18</td>\n",
       "      <td>23637656.17</td>\n",
       "    </tr>\n",
       "    <tr>\n",
       "      <th>5</th>\n",
       "      <td>4</td>\n",
       "      <td>21599832.60</td>\n",
       "      <td>1909806.30</td>\n",
       "      <td>23509638.90</td>\n",
       "    </tr>\n",
       "    <tr>\n",
       "      <th>6</th>\n",
       "      <td>2</td>\n",
       "      <td>21455153.50</td>\n",
       "      <td>1767709.29</td>\n",
       "      <td>23222862.79</td>\n",
       "    </tr>\n",
       "    <tr>\n",
       "      <th>7</th>\n",
       "      <td>5</td>\n",
       "      <td>20185235.75</td>\n",
       "      <td>1543882.23</td>\n",
       "      <td>21729117.98</td>\n",
       "    </tr>\n",
       "    <tr>\n",
       "      <th>8</th>\n",
       "      <td>7</td>\n",
       "      <td>19335078.33</td>\n",
       "      <td>1646520.04</td>\n",
       "      <td>20981598.37</td>\n",
       "    </tr>\n",
       "    <tr>\n",
       "      <th>9</th>\n",
       "      <td>9</td>\n",
       "      <td>18565907.08</td>\n",
       "      <td>1601906.05</td>\n",
       "      <td>20167813.13</td>\n",
       "    </tr>\n",
       "    <tr>\n",
       "      <th>10</th>\n",
       "      <td>6</td>\n",
       "      <td>18350698.49</td>\n",
       "      <td>1545321.28</td>\n",
       "      <td>19896019.77</td>\n",
       "    </tr>\n",
       "    <tr>\n",
       "      <th>11</th>\n",
       "      <td>8</td>\n",
       "      <td>17120033.98</td>\n",
       "      <td>1374623.37</td>\n",
       "      <td>18494657.35</td>\n",
       "    </tr>\n",
       "  </tbody>\n",
       "</table>\n",
       "</div>"
      ],
      "text/plain": [
       "    travel_month  flight_revenue  hotel_revenue  total_revenue\n",
       "0             10     27663040.66     2417426.96    30080467.62\n",
       "1             12     25197015.56     2182197.21    27379212.77\n",
       "2             11     24672328.58     1948201.51    26620530.09\n",
       "3              1     24334009.62     1990376.79    26324386.41\n",
       "4              3     21820447.99     1817208.18    23637656.17\n",
       "5              4     21599832.60     1909806.30    23509638.90\n",
       "6              2     21455153.50     1767709.29    23222862.79\n",
       "7              5     20185235.75     1543882.23    21729117.98\n",
       "8              7     19335078.33     1646520.04    20981598.37\n",
       "9              9     18565907.08     1601906.05    20167813.13\n",
       "10             6     18350698.49     1545321.28    19896019.77\n",
       "11             8     17120033.98     1374623.37    18494657.35"
      ]
     },
     "execution_count": 8,
     "metadata": {},
     "output_type": "execute_result"
    }
   ],
   "source": [
    "query = \"\"\"\n",
    "-- revenue by month\n",
    "SELECT a.travel_month, a.flight_revenue, b.hotel_revenue, ROUND(a.flight_revenue + b.hotel_revenue,2) AS total_revenue\n",
    "FROM (\n",
    "    SELECT MONTH(date) AS travel_month, ROUND(SUM(price), 2) AS flight_revenue\n",
    "    FROM flights\n",
    "    GROUP BY MONTH(date)\n",
    ") AS a\n",
    "INNER JOIN (\n",
    "    SELECT MONTH(date) AS travel_month, ROUND(SUM(total), 2) AS hotel_revenue\n",
    "    FROM hotels\n",
    "    GROUP BY MONTH(date)\n",
    ") AS b\n",
    "ON a.travel_month = b.travel_month\n",
    "ORDER BY total_revenue DESC;\n",
    "\"\"\"\n",
    "\n",
    "result = pd.read_sql(query, engine)\n",
    "\n",
    "result"
   ]
  },
  {
   "cell_type": "markdown",
   "id": "66a6f760",
   "metadata": {},
   "source": [
    "From the results, we can see that\n",
    "- The months with the highest number of bookings and revenue fall between October and January, which aligns with the holiday season and year-end vacations. \n",
    "- This indicates a seasonal peak in travel-related bookings during this period."
   ]
  },
  {
   "cell_type": "markdown",
   "id": "cd937c33",
   "metadata": {},
   "source": [
    "## 3. Flight and Hotel Price Factors"
   ]
  },
  {
   "cell_type": "markdown",
   "id": "43a8a018",
   "metadata": {},
   "source": [
    "### Distance"
   ]
  },
  {
   "cell_type": "markdown",
   "id": "a41b985c",
   "metadata": {},
   "source": [
    "This query calculates the average price of flights based on the distance traveled, grouped into intervals of 100 kilometers. The distance intervals are displayed as ranges (e.g., 100-199 km, 200-299 km), and for each range, the average price of the flights within that range is calculated.\n",
    "\n",
    "The results show that, as the distance increases, the average flight price also tends to rise, with flights in the 900-999 km range having the highest average price of 1348.25."
   ]
  },
  {
   "cell_type": "code",
   "execution_count": 9,
   "id": "63aa1045",
   "metadata": {},
   "outputs": [
    {
     "data": {
      "application/vnd.microsoft.datawrangler.viewer.v0+json": {
       "columns": [
        {
         "name": "index",
         "rawType": "int64",
         "type": "integer"
        },
        {
         "name": "flight_distance",
         "rawType": "object",
         "type": "string"
        },
        {
         "name": "average_price",
         "rawType": "float64",
         "type": "float"
        }
       ],
       "conversionMethod": "pd.DataFrame",
       "ref": "8834b16d-8f09-47c9-a137-f4e0e62e83a6",
       "rows": [
        [
         "0",
         "100-199",
         "494.69"
        ],
        [
         "1",
         "200-299",
         "673.56"
        ],
        [
         "2",
         "300-399",
         "796.14"
        ],
        [
         "3",
         "400-499",
         "792.84"
        ],
        [
         "4",
         "500-599",
         "961.07"
        ],
        [
         "5",
         "600-699",
         "1099.14"
        ],
        [
         "6",
         "700-799",
         "1187.1"
        ],
        [
         "7",
         "800-899",
         "1274.6"
        ],
        [
         "8",
         "900-999",
         "1348.25"
        ]
       ],
       "shape": {
        "columns": 2,
        "rows": 9
       }
      },
      "text/html": [
       "<div>\n",
       "<style scoped>\n",
       "    .dataframe tbody tr th:only-of-type {\n",
       "        vertical-align: middle;\n",
       "    }\n",
       "\n",
       "    .dataframe tbody tr th {\n",
       "        vertical-align: top;\n",
       "    }\n",
       "\n",
       "    .dataframe thead th {\n",
       "        text-align: right;\n",
       "    }\n",
       "</style>\n",
       "<table border=\"1\" class=\"dataframe\">\n",
       "  <thead>\n",
       "    <tr style=\"text-align: right;\">\n",
       "      <th></th>\n",
       "      <th>flight_distance</th>\n",
       "      <th>average_price</th>\n",
       "    </tr>\n",
       "  </thead>\n",
       "  <tbody>\n",
       "    <tr>\n",
       "      <th>0</th>\n",
       "      <td>100-199</td>\n",
       "      <td>494.69</td>\n",
       "    </tr>\n",
       "    <tr>\n",
       "      <th>1</th>\n",
       "      <td>200-299</td>\n",
       "      <td>673.56</td>\n",
       "    </tr>\n",
       "    <tr>\n",
       "      <th>2</th>\n",
       "      <td>300-399</td>\n",
       "      <td>796.14</td>\n",
       "    </tr>\n",
       "    <tr>\n",
       "      <th>3</th>\n",
       "      <td>400-499</td>\n",
       "      <td>792.84</td>\n",
       "    </tr>\n",
       "    <tr>\n",
       "      <th>4</th>\n",
       "      <td>500-599</td>\n",
       "      <td>961.07</td>\n",
       "    </tr>\n",
       "    <tr>\n",
       "      <th>5</th>\n",
       "      <td>600-699</td>\n",
       "      <td>1099.14</td>\n",
       "    </tr>\n",
       "    <tr>\n",
       "      <th>6</th>\n",
       "      <td>700-799</td>\n",
       "      <td>1187.10</td>\n",
       "    </tr>\n",
       "    <tr>\n",
       "      <th>7</th>\n",
       "      <td>800-899</td>\n",
       "      <td>1274.60</td>\n",
       "    </tr>\n",
       "    <tr>\n",
       "      <th>8</th>\n",
       "      <td>900-999</td>\n",
       "      <td>1348.25</td>\n",
       "    </tr>\n",
       "  </tbody>\n",
       "</table>\n",
       "</div>"
      ],
      "text/plain": [
       "  flight_distance  average_price\n",
       "0         100-199         494.69\n",
       "1         200-299         673.56\n",
       "2         300-399         796.14\n",
       "3         400-499         792.84\n",
       "4         500-599         961.07\n",
       "5         600-699        1099.14\n",
       "6         700-799        1187.10\n",
       "7         800-899        1274.60\n",
       "8         900-999        1348.25"
      ]
     },
     "execution_count": 9,
     "metadata": {},
     "output_type": "execute_result"
    }
   ],
   "source": [
    "query = \"\"\"\n",
    "-- price by distance\n",
    "SELECT \n",
    "\tCONCAT(FLOOR(distance/100)*100,'-',FLOOR(distance/100)*100+99) AS flight_distance,\n",
    "\tROUND(AVG(price),2) AS average_price\n",
    "FROM flights\n",
    "GROUP BY FLOOR(distance/100)*100\n",
    "ORDER BY 1;\n",
    "\"\"\"\n",
    "\n",
    "result = pd.read_sql(query, engine)\n",
    "\n",
    "result"
   ]
  },
  {
   "cell_type": "markdown",
   "id": "7c3f134c",
   "metadata": {},
   "source": [
    "### Location"
   ]
  },
  {
   "cell_type": "markdown",
   "id": "2cce2201",
   "metadata": {},
   "source": [
    "This query shows the average flight price and average hotel price for various destinations.\n",
    "\n",
    "Insights:\n",
    "- Florianopolis (SC) and Salvador (BH) have the highest average prices for flights among the destinations listed, at 1185.69 and 1264.35, respectively.\n",
    "- Campo Grande (MS) has the lowest average hotel price (60.39), while Florianopolis (SC) has the highest hotel price (313.02).\n",
    "- There seems to be a relationship between higher flight prices and higher hotel prices, as seen in Salvador (BH), which has both high flight and hotel prices."
   ]
  },
  {
   "cell_type": "code",
   "execution_count": 10,
   "id": "5894391d",
   "metadata": {},
   "outputs": [
    {
     "data": {
      "application/vnd.microsoft.datawrangler.viewer.v0+json": {
       "columns": [
        {
         "name": "index",
         "rawType": "int64",
         "type": "integer"
        },
        {
         "name": "destination",
         "rawType": "object",
         "type": "string"
        },
        {
         "name": "avg_flight_price",
         "rawType": "float64",
         "type": "float"
        },
        {
         "name": "avg_hotel_price",
         "rawType": "float64",
         "type": "float"
        }
       ],
       "conversionMethod": "pd.DataFrame",
       "ref": "1fa1ac41-ef9e-4dfe-a31d-af8cc2cb5bd0",
       "rows": [
        [
         "0",
         "Salvador (BH)",
         "1264.35",
         "263.41"
        ],
        [
         "1",
         "Florianopolis (SC)",
         "1185.69",
         "313.02"
        ],
        [
         "2",
         "Sao Paulo (SP)",
         "648.34",
         "139.1"
        ],
        [
         "3",
         "Campo Grande (MS)",
         "841.35",
         "60.39"
        ],
        [
         "4",
         "Brasilia (DF)",
         "766.76",
         "247.62"
        ],
        [
         "5",
         "Natal (RN)",
         "826.87",
         "242.88"
        ],
        [
         "6",
         "Rio de Janeiro (RJ)",
         "846.77",
         "165.99"
        ],
        [
         "7",
         "Recife (PE)",
         "951.23",
         "312.83"
        ],
        [
         "8",
         "Aracaju (SE)",
         "1065.24",
         "208.04"
        ]
       ],
       "shape": {
        "columns": 3,
        "rows": 9
       }
      },
      "text/html": [
       "<div>\n",
       "<style scoped>\n",
       "    .dataframe tbody tr th:only-of-type {\n",
       "        vertical-align: middle;\n",
       "    }\n",
       "\n",
       "    .dataframe tbody tr th {\n",
       "        vertical-align: top;\n",
       "    }\n",
       "\n",
       "    .dataframe thead th {\n",
       "        text-align: right;\n",
       "    }\n",
       "</style>\n",
       "<table border=\"1\" class=\"dataframe\">\n",
       "  <thead>\n",
       "    <tr style=\"text-align: right;\">\n",
       "      <th></th>\n",
       "      <th>destination</th>\n",
       "      <th>avg_flight_price</th>\n",
       "      <th>avg_hotel_price</th>\n",
       "    </tr>\n",
       "  </thead>\n",
       "  <tbody>\n",
       "    <tr>\n",
       "      <th>0</th>\n",
       "      <td>Salvador (BH)</td>\n",
       "      <td>1264.35</td>\n",
       "      <td>263.41</td>\n",
       "    </tr>\n",
       "    <tr>\n",
       "      <th>1</th>\n",
       "      <td>Florianopolis (SC)</td>\n",
       "      <td>1185.69</td>\n",
       "      <td>313.02</td>\n",
       "    </tr>\n",
       "    <tr>\n",
       "      <th>2</th>\n",
       "      <td>Sao Paulo (SP)</td>\n",
       "      <td>648.34</td>\n",
       "      <td>139.10</td>\n",
       "    </tr>\n",
       "    <tr>\n",
       "      <th>3</th>\n",
       "      <td>Campo Grande (MS)</td>\n",
       "      <td>841.35</td>\n",
       "      <td>60.39</td>\n",
       "    </tr>\n",
       "    <tr>\n",
       "      <th>4</th>\n",
       "      <td>Brasilia (DF)</td>\n",
       "      <td>766.76</td>\n",
       "      <td>247.62</td>\n",
       "    </tr>\n",
       "    <tr>\n",
       "      <th>5</th>\n",
       "      <td>Natal (RN)</td>\n",
       "      <td>826.87</td>\n",
       "      <td>242.88</td>\n",
       "    </tr>\n",
       "    <tr>\n",
       "      <th>6</th>\n",
       "      <td>Rio de Janeiro (RJ)</td>\n",
       "      <td>846.77</td>\n",
       "      <td>165.99</td>\n",
       "    </tr>\n",
       "    <tr>\n",
       "      <th>7</th>\n",
       "      <td>Recife (PE)</td>\n",
       "      <td>951.23</td>\n",
       "      <td>312.83</td>\n",
       "    </tr>\n",
       "    <tr>\n",
       "      <th>8</th>\n",
       "      <td>Aracaju (SE)</td>\n",
       "      <td>1065.24</td>\n",
       "      <td>208.04</td>\n",
       "    </tr>\n",
       "  </tbody>\n",
       "</table>\n",
       "</div>"
      ],
      "text/plain": [
       "           destination  avg_flight_price  avg_hotel_price\n",
       "0        Salvador (BH)           1264.35           263.41\n",
       "1   Florianopolis (SC)           1185.69           313.02\n",
       "2       Sao Paulo (SP)            648.34           139.10\n",
       "3    Campo Grande (MS)            841.35            60.39\n",
       "4        Brasilia (DF)            766.76           247.62\n",
       "5           Natal (RN)            826.87           242.88\n",
       "6  Rio de Janeiro (RJ)            846.77           165.99\n",
       "7          Recife (PE)            951.23           312.83\n",
       "8         Aracaju (SE)           1065.24           208.04"
      ]
     },
     "execution_count": 10,
     "metadata": {},
     "output_type": "execute_result"
    }
   ],
   "source": [
    "query = \"\"\"\n",
    "-- average prices by destinations\n",
    "SELECT a.destination, a.avg_flight_price, b.avg_hotel_price\n",
    "FROM (\n",
    "\tSELECT [to] as destination, ROUND(AVG(price),2) as avg_flight_price\n",
    "\tFROM flights\n",
    "\tGROUP BY [to]\n",
    "\t) AS a\n",
    "LEFT JOIN (\n",
    "\tSELECT place, ROUND(AVG(price),2) as avg_hotel_price\n",
    "\tFROM hotels\n",
    "\tGROUP BY place\n",
    "\t) AS b\n",
    "ON a.destination = b.place\n",
    "\"\"\"\n",
    "\n",
    "result = pd.read_sql(query, engine)\n",
    "\n",
    "result"
   ]
  },
  {
   "cell_type": "markdown",
   "id": "1bbb93c2",
   "metadata": {},
   "source": [
    "### Month"
   ]
  },
  {
   "cell_type": "markdown",
   "id": "598fa2e6",
   "metadata": {},
   "source": [
    "This query shows the average flight and hotel prices for each month of travel:\n",
    "\n",
    "Insights:\n",
    "- The highest average flight price is observed in June (962.74), followed closely by May (962.67).\n",
    "- The lowest flight prices occur in January (951.03) and September (953.66).\n",
    "- Hotel prices are generally consistent throughout the year, ranging from a low of 212.38 in January to a high of 215.59 in June.\n",
    "\n",
    "This data can help travelers identify which months might offer the best deals in terms of both flights and accommodation."
   ]
  },
  {
   "cell_type": "code",
   "execution_count": 11,
   "id": "2b66aa17",
   "metadata": {},
   "outputs": [
    {
     "data": {
      "application/vnd.microsoft.datawrangler.viewer.v0+json": {
       "columns": [
        {
         "name": "index",
         "rawType": "int64",
         "type": "integer"
        },
        {
         "name": "travel_month",
         "rawType": "int64",
         "type": "integer"
        },
        {
         "name": "avg_flight_price",
         "rawType": "float64",
         "type": "float"
        },
        {
         "name": "avg_hotel_price",
         "rawType": "float64",
         "type": "float"
        }
       ],
       "conversionMethod": "pd.DataFrame",
       "ref": "a6a98f63-8832-4f0a-86e4-27dc99bdcbb6",
       "rows": [
        [
         "0",
         "6",
         "962.74",
         "215.59"
        ],
        [
         "1",
         "5",
         "962.67",
         "215.4"
        ],
        [
         "2",
         "7",
         "961.32",
         "213.26"
        ],
        [
         "3",
         "3",
         "959.52",
         "215.12"
        ],
        [
         "4",
         "2",
         "958.38",
         "214.09"
        ],
        [
         "5",
         "8",
         "958.25",
         "214.79"
        ],
        [
         "6",
         "11",
         "957.63",
         "214.0"
        ],
        [
         "7",
         "12",
         "956.39",
         "215.09"
        ],
        [
         "8",
         "4",
         "955.45",
         "214.47"
        ],
        [
         "9",
         "10",
         "954.56",
         "215.11"
        ],
        [
         "10",
         "9",
         "953.66",
         "214.15"
        ],
        [
         "11",
         "1",
         "951.03",
         "212.38"
        ]
       ],
       "shape": {
        "columns": 3,
        "rows": 12
       }
      },
      "text/html": [
       "<div>\n",
       "<style scoped>\n",
       "    .dataframe tbody tr th:only-of-type {\n",
       "        vertical-align: middle;\n",
       "    }\n",
       "\n",
       "    .dataframe tbody tr th {\n",
       "        vertical-align: top;\n",
       "    }\n",
       "\n",
       "    .dataframe thead th {\n",
       "        text-align: right;\n",
       "    }\n",
       "</style>\n",
       "<table border=\"1\" class=\"dataframe\">\n",
       "  <thead>\n",
       "    <tr style=\"text-align: right;\">\n",
       "      <th></th>\n",
       "      <th>travel_month</th>\n",
       "      <th>avg_flight_price</th>\n",
       "      <th>avg_hotel_price</th>\n",
       "    </tr>\n",
       "  </thead>\n",
       "  <tbody>\n",
       "    <tr>\n",
       "      <th>0</th>\n",
       "      <td>6</td>\n",
       "      <td>962.74</td>\n",
       "      <td>215.59</td>\n",
       "    </tr>\n",
       "    <tr>\n",
       "      <th>1</th>\n",
       "      <td>5</td>\n",
       "      <td>962.67</td>\n",
       "      <td>215.40</td>\n",
       "    </tr>\n",
       "    <tr>\n",
       "      <th>2</th>\n",
       "      <td>7</td>\n",
       "      <td>961.32</td>\n",
       "      <td>213.26</td>\n",
       "    </tr>\n",
       "    <tr>\n",
       "      <th>3</th>\n",
       "      <td>3</td>\n",
       "      <td>959.52</td>\n",
       "      <td>215.12</td>\n",
       "    </tr>\n",
       "    <tr>\n",
       "      <th>4</th>\n",
       "      <td>2</td>\n",
       "      <td>958.38</td>\n",
       "      <td>214.09</td>\n",
       "    </tr>\n",
       "    <tr>\n",
       "      <th>5</th>\n",
       "      <td>8</td>\n",
       "      <td>958.25</td>\n",
       "      <td>214.79</td>\n",
       "    </tr>\n",
       "    <tr>\n",
       "      <th>6</th>\n",
       "      <td>11</td>\n",
       "      <td>957.63</td>\n",
       "      <td>214.00</td>\n",
       "    </tr>\n",
       "    <tr>\n",
       "      <th>7</th>\n",
       "      <td>12</td>\n",
       "      <td>956.39</td>\n",
       "      <td>215.09</td>\n",
       "    </tr>\n",
       "    <tr>\n",
       "      <th>8</th>\n",
       "      <td>4</td>\n",
       "      <td>955.45</td>\n",
       "      <td>214.47</td>\n",
       "    </tr>\n",
       "    <tr>\n",
       "      <th>9</th>\n",
       "      <td>10</td>\n",
       "      <td>954.56</td>\n",
       "      <td>215.11</td>\n",
       "    </tr>\n",
       "    <tr>\n",
       "      <th>10</th>\n",
       "      <td>9</td>\n",
       "      <td>953.66</td>\n",
       "      <td>214.15</td>\n",
       "    </tr>\n",
       "    <tr>\n",
       "      <th>11</th>\n",
       "      <td>1</td>\n",
       "      <td>951.03</td>\n",
       "      <td>212.38</td>\n",
       "    </tr>\n",
       "  </tbody>\n",
       "</table>\n",
       "</div>"
      ],
      "text/plain": [
       "    travel_month  avg_flight_price  avg_hotel_price\n",
       "0              6            962.74           215.59\n",
       "1              5            962.67           215.40\n",
       "2              7            961.32           213.26\n",
       "3              3            959.52           215.12\n",
       "4              2            958.38           214.09\n",
       "5              8            958.25           214.79\n",
       "6             11            957.63           214.00\n",
       "7             12            956.39           215.09\n",
       "8              4            955.45           214.47\n",
       "9             10            954.56           215.11\n",
       "10             9            953.66           214.15\n",
       "11             1            951.03           212.38"
      ]
     },
     "execution_count": 11,
     "metadata": {},
     "output_type": "execute_result"
    }
   ],
   "source": [
    "query = \"\"\"\n",
    "-- avg price by months\n",
    "SELECT a.travel_month, a.avg_flight_price, b.avg_hotel_price\n",
    "FROM (\n",
    "SELECT MONTH(date) AS travel_month, ROUND(AVG(price),2) AS avg_flight_price\n",
    "FROM flights\n",
    "GROUP BY MONTH(date)\n",
    "    ) AS a\n",
    "LEFT JOIN (\n",
    "\tSELECT MONTH(date) AS travel_month, ROUND(AVG(price),2) as avg_hotel_price\n",
    "\tFROM hotels\n",
    "\tGROUP BY MONTH(date)\n",
    "\t) AS b\n",
    "ON a.travel_month = b.travel_month\n",
    "ORDER BY 2 DESC;\n",
    "\"\"\"\n",
    "\n",
    "result = pd.read_sql(query, engine)\n",
    "\n",
    "result"
   ]
  },
  {
   "cell_type": "markdown",
   "id": "c21613d4",
   "metadata": {},
   "source": [
    "### Flight Route"
   ]
  },
  {
   "cell_type": "markdown",
   "id": "b5d7b713",
   "metadata": {},
   "source": [
    "This query provides data on flight bookings, showing the departure city (from), destination city (to), the number of bookings (bookings), and the average price (avg_price) for each route.\n",
    "\n",
    "Insights:\n",
    "- Most Booked Route: The highest number of bookings is for the route Sao Paulo (SP) to Florianopolis (SC) with 6717 bookings, at an average price of 1380.88.\n",
    "- Lowest Average Price: The route with the lowest average price is Florianopolis (SC) to Rio de Janeiro (RJ), with an average price of 474.81, but it still has 5807 bookings, making it a popular and affordable route.\n",
    "- High Price Routes: Routes like Sao Paulo (SP) to Florianopolis (SC) are more expensive, with prices around 1380.88 but maintain a high number of bookings."
   ]
  },
  {
   "cell_type": "code",
   "execution_count": 12,
   "id": "354bc139",
   "metadata": {},
   "outputs": [
    {
     "data": {
      "application/vnd.microsoft.datawrangler.viewer.v0+json": {
       "columns": [
        {
         "name": "index",
         "rawType": "int64",
         "type": "integer"
        },
        {
         "name": "from",
         "rawType": "object",
         "type": "string"
        },
        {
         "name": "to",
         "rawType": "object",
         "type": "string"
        },
        {
         "name": "bookings",
         "rawType": "int64",
         "type": "integer"
        },
        {
         "name": "avg_price",
         "rawType": "float64",
         "type": "float"
        }
       ],
       "conversionMethod": "pd.DataFrame",
       "ref": "b21da06b-cde2-4267-b971-17a8f6d63a05",
       "rows": [
        [
         "0",
         "Sao Paulo (SP)",
         "Florianopolis (SC)",
         "6717",
         "1380.88"
        ],
        [
         "1",
         "Campo Grande (MS)",
         "Rio de Janeiro (RJ)",
         "2415",
         "1371.03"
        ],
        [
         "2",
         "Brasilia (DF)",
         "Salvador (BH)",
         "2009",
         "1366.8"
        ],
        [
         "3",
         "Aracaju (SE)",
         "Salvador (BH)",
         "2918",
         "1364.97"
        ],
        [
         "4",
         "Rio de Janeiro (RJ)",
         "Recife (PE)",
         "1897",
         "1361.2"
        ],
        [
         "5",
         "Natal (RN)",
         "Salvador (BH)",
         "926",
         "1357.97"
        ],
        [
         "6",
         "Florianopolis (SC)",
         "Salvador (BH)",
         "5800",
         "1350.41"
        ],
        [
         "7",
         "Salvador (BH)",
         "Florianopolis (SC)",
         "5800",
         "1346.09"
        ],
        [
         "8",
         "Recife (PE)",
         "Rio de Janeiro (RJ)",
         "1897",
         "1341.6"
        ],
        [
         "9",
         "Brasilia (DF)",
         "Florianopolis (SC)",
         "7779",
         "1260.25"
        ],
        [
         "10",
         "Recife (PE)",
         "Salvador (BH)",
         "1952",
         "1259.09"
        ],
        [
         "11",
         "Natal (RN)",
         "Florianopolis (SC)",
         "6709",
         "1258.46"
        ],
        [
         "12",
         "Florianopolis (SC)",
         "Aracaju (SE)",
         "8643",
         "1246.37"
        ],
        [
         "13",
         "Campo Grande (MS)",
         "Aracaju (SE)",
         "5393",
         "1246.03"
        ],
        [
         "14",
         "Rio de Janeiro (RJ)",
         "Campo Grande (MS)",
         "2415",
         "1242.89"
        ],
        [
         "15",
         "Salvador (BH)",
         "Aracaju (SE)",
         "2918",
         "1239.29"
        ],
        [
         "16",
         "Aracaju (SE)",
         "Florianopolis (SC)",
         "8643",
         "1232.44"
        ],
        [
         "17",
         "Sao Paulo (SP)",
         "Recife (PE)",
         "2912",
         "1230.16"
        ],
        [
         "18",
         "Rio de Janeiro (RJ)",
         "Aracaju (SE)",
         "2818",
         "1135.07"
        ],
        [
         "19",
         "Salvador (BH)",
         "Recife (PE)",
         "1952",
         "1131.37"
        ],
        [
         "20",
         "Brasilia (DF)",
         "Natal (RN)",
         "2987",
         "1127.79"
        ],
        [
         "21",
         "Natal (RN)",
         "Rio de Janeiro (RJ)",
         "950",
         "1124.19"
        ],
        [
         "22",
         "Recife (PE)",
         "Florianopolis (SC)",
         "7609",
         "1122.36"
        ],
        [
         "23",
         "Sao Paulo (SP)",
         "Salvador (BH)",
         "979",
         "1119.95"
        ],
        [
         "24",
         "Florianopolis (SC)",
         "Natal (RN)",
         "6709",
         "1115.3"
        ],
        [
         "25",
         "Aracaju (SE)",
         "Campo Grande (MS)",
         "5393",
         "1112.64"
        ],
        [
         "26",
         "Campo Grande (MS)",
         "Florianopolis (SC)",
         "8253",
         "1106.75"
        ],
        [
         "27",
         "Brasilia (DF)",
         "Aracaju (SE)",
         "4833",
         "1019.98"
        ],
        [
         "28",
         "Rio de Janeiro (RJ)",
         "Natal (RN)",
         "950",
         "1009.1"
        ],
        [
         "29",
         "Florianopolis (SC)",
         "Recife (PE)",
         "7609",
         "1007.67"
        ],
        [
         "30",
         "Natal (RN)",
         "Brasilia (DF)",
         "2987",
         "1000.21"
        ],
        [
         "31",
         "Campo Grande (MS)",
         "Recife (PE)",
         "4510",
         "998.02"
        ],
        [
         "32",
         "Aracaju (SE)",
         "Rio de Janeiro (RJ)",
         "2818",
         "991.73"
        ],
        [
         "33",
         "Salvador (BH)",
         "Natal (RN)",
         "926",
         "985.08"
        ],
        [
         "34",
         "Recife (PE)",
         "Aracaju (SE)",
         "4884",
         "983.33"
        ],
        [
         "35",
         "Sao Paulo (SP)",
         "Aracaju (SE)",
         "3798",
         "977.96"
        ],
        [
         "36",
         "Aracaju (SE)",
         "Recife (PE)",
         "4884",
         "895.43"
        ],
        [
         "37",
         "Natal (RN)",
         "Sao Paulo (SP)",
         "1850",
         "895.39"
        ],
        [
         "38",
         "Campo Grande (MS)",
         "Salvador (BH)",
         "2520",
         "893.89"
        ],
        [
         "39",
         "Florianopolis (SC)",
         "Brasilia (DF)",
         "7779",
         "886.55"
        ],
        [
         "40",
         "Brasilia (DF)",
         "Campo Grande (MS)",
         "4517",
         "869.15"
        ],
        [
         "41",
         "Recife (PE)",
         "Campo Grande (MS)",
         "4510",
         "861.2"
        ],
        [
         "42",
         "Sao Paulo (SP)",
         "Rio de Janeiro (RJ)",
         "934",
         "859.76"
        ],
        [
         "43",
         "Salvador (BH)",
         "Brasilia (DF)",
         "2009",
         "858.7"
        ],
        [
         "44",
         "Salvador (BH)",
         "Campo Grande (MS)",
         "2520",
         "767.47"
        ],
        [
         "45",
         "Aracaju (SE)",
         "Brasilia (DF)",
         "4833",
         "761.63"
        ],
        [
         "46",
         "Brasilia (DF)",
         "Sao Paulo (SP)",
         "2838",
         "759.96"
        ],
        [
         "47",
         "Sao Paulo (SP)",
         "Natal (RN)",
         "1850",
         "753.2"
        ],
        [
         "48",
         "Recife (PE)",
         "Sao Paulo (SP)",
         "2912",
         "746.35"
        ],
        [
         "49",
         "Natal (RN)",
         "Campo Grande (MS)",
         "3543",
         "742.2"
        ]
       ],
       "shape": {
        "columns": 4,
        "rows": 70
       }
      },
      "text/html": [
       "<div>\n",
       "<style scoped>\n",
       "    .dataframe tbody tr th:only-of-type {\n",
       "        vertical-align: middle;\n",
       "    }\n",
       "\n",
       "    .dataframe tbody tr th {\n",
       "        vertical-align: top;\n",
       "    }\n",
       "\n",
       "    .dataframe thead th {\n",
       "        text-align: right;\n",
       "    }\n",
       "</style>\n",
       "<table border=\"1\" class=\"dataframe\">\n",
       "  <thead>\n",
       "    <tr style=\"text-align: right;\">\n",
       "      <th></th>\n",
       "      <th>from</th>\n",
       "      <th>to</th>\n",
       "      <th>bookings</th>\n",
       "      <th>avg_price</th>\n",
       "    </tr>\n",
       "  </thead>\n",
       "  <tbody>\n",
       "    <tr>\n",
       "      <th>0</th>\n",
       "      <td>Sao Paulo (SP)</td>\n",
       "      <td>Florianopolis (SC)</td>\n",
       "      <td>6717</td>\n",
       "      <td>1380.88</td>\n",
       "    </tr>\n",
       "    <tr>\n",
       "      <th>1</th>\n",
       "      <td>Campo Grande (MS)</td>\n",
       "      <td>Rio de Janeiro (RJ)</td>\n",
       "      <td>2415</td>\n",
       "      <td>1371.03</td>\n",
       "    </tr>\n",
       "    <tr>\n",
       "      <th>2</th>\n",
       "      <td>Brasilia (DF)</td>\n",
       "      <td>Salvador (BH)</td>\n",
       "      <td>2009</td>\n",
       "      <td>1366.80</td>\n",
       "    </tr>\n",
       "    <tr>\n",
       "      <th>3</th>\n",
       "      <td>Aracaju (SE)</td>\n",
       "      <td>Salvador (BH)</td>\n",
       "      <td>2918</td>\n",
       "      <td>1364.97</td>\n",
       "    </tr>\n",
       "    <tr>\n",
       "      <th>4</th>\n",
       "      <td>Rio de Janeiro (RJ)</td>\n",
       "      <td>Recife (PE)</td>\n",
       "      <td>1897</td>\n",
       "      <td>1361.20</td>\n",
       "    </tr>\n",
       "    <tr>\n",
       "      <th>...</th>\n",
       "      <td>...</td>\n",
       "      <td>...</td>\n",
       "      <td>...</td>\n",
       "      <td>...</td>\n",
       "    </tr>\n",
       "    <tr>\n",
       "      <th>65</th>\n",
       "      <td>Sao Paulo (SP)</td>\n",
       "      <td>Campo Grande (MS)</td>\n",
       "      <td>3597</td>\n",
       "      <td>486.15</td>\n",
       "    </tr>\n",
       "    <tr>\n",
       "      <th>66</th>\n",
       "      <td>Aracaju (SE)</td>\n",
       "      <td>Natal (RN)</td>\n",
       "      <td>3937</td>\n",
       "      <td>484.11</td>\n",
       "    </tr>\n",
       "    <tr>\n",
       "      <th>67</th>\n",
       "      <td>Natal (RN)</td>\n",
       "      <td>Aracaju (SE)</td>\n",
       "      <td>3937</td>\n",
       "      <td>482.38</td>\n",
       "    </tr>\n",
       "    <tr>\n",
       "      <th>68</th>\n",
       "      <td>Brasilia (DF)</td>\n",
       "      <td>Rio de Janeiro (RJ)</td>\n",
       "      <td>1994</td>\n",
       "      <td>481.18</td>\n",
       "    </tr>\n",
       "    <tr>\n",
       "      <th>69</th>\n",
       "      <td>Florianopolis (SC)</td>\n",
       "      <td>Rio de Janeiro (RJ)</td>\n",
       "      <td>5807</td>\n",
       "      <td>474.81</td>\n",
       "    </tr>\n",
       "  </tbody>\n",
       "</table>\n",
       "<p>70 rows × 4 columns</p>\n",
       "</div>"
      ],
      "text/plain": [
       "                   from                   to  bookings  avg_price\n",
       "0        Sao Paulo (SP)   Florianopolis (SC)      6717    1380.88\n",
       "1     Campo Grande (MS)  Rio de Janeiro (RJ)      2415    1371.03\n",
       "2         Brasilia (DF)        Salvador (BH)      2009    1366.80\n",
       "3          Aracaju (SE)        Salvador (BH)      2918    1364.97\n",
       "4   Rio de Janeiro (RJ)          Recife (PE)      1897    1361.20\n",
       "..                  ...                  ...       ...        ...\n",
       "65       Sao Paulo (SP)    Campo Grande (MS)      3597     486.15\n",
       "66         Aracaju (SE)           Natal (RN)      3937     484.11\n",
       "67           Natal (RN)         Aracaju (SE)      3937     482.38\n",
       "68        Brasilia (DF)  Rio de Janeiro (RJ)      1994     481.18\n",
       "69   Florianopolis (SC)  Rio de Janeiro (RJ)      5807     474.81\n",
       "\n",
       "[70 rows x 4 columns]"
      ]
     },
     "execution_count": 12,
     "metadata": {},
     "output_type": "execute_result"
    }
   ],
   "source": [
    "query = \"\"\"\n",
    "-- flight bookings and avg price by flight route\n",
    "SELECT [from], [to], COUNT(*) AS bookings, ROUND(AVG(price),2) AS avg_price\n",
    "FROM flights\n",
    "GROUP BY [from], [to]\n",
    "ORDER BY 4 DESC\n",
    "\"\"\"\n",
    "\n",
    "result = pd.read_sql(query, engine)\n",
    "\n",
    "result"
   ]
  },
  {
   "cell_type": "markdown",
   "id": "1d3945f4",
   "metadata": {},
   "source": [
    "### Agency"
   ]
  },
  {
   "cell_type": "markdown",
   "id": "b88e9b4d",
   "metadata": {},
   "source": [
    "This query returns the average flight and hotel prices for different agencies:\n",
    "\n",
    "Insights:\n",
    "- CloudFy: Offers a slightly cheaper flight at an average price of 918.90 and a hotel price of 213.73.\n",
    "- Rainbow: Has a very similar pricing model to CloudFy with an average flight price of 919.78 and hotel price of 214.76.\n",
    "- FlyingDrops: Charges significantly higher for flights, with an average price of 1186.16, but the hotel price is almost the same as Rainbow at 215.61."
   ]
  },
  {
   "cell_type": "code",
   "execution_count": 13,
   "id": "d2b3ce7e",
   "metadata": {},
   "outputs": [
    {
     "data": {
      "application/vnd.microsoft.datawrangler.viewer.v0+json": {
       "columns": [
        {
         "name": "index",
         "rawType": "int64",
         "type": "integer"
        },
        {
         "name": "agency",
         "rawType": "object",
         "type": "string"
        },
        {
         "name": "avg_flight_price",
         "rawType": "float64",
         "type": "float"
        },
        {
         "name": "avg_hotel_price",
         "rawType": "float64",
         "type": "float"
        }
       ],
       "conversionMethod": "pd.DataFrame",
       "ref": "41c73b7e-fb37-471c-8c57-3cec13bd238b",
       "rows": [
        [
         "0",
         "CloudFy",
         "918.9",
         "213.73"
        ],
        [
         "1",
         "Rainbow",
         "919.78",
         "214.76"
        ],
        [
         "2",
         "FlyingDrops",
         "1186.16",
         "215.61"
        ]
       ],
       "shape": {
        "columns": 3,
        "rows": 3
       }
      },
      "text/html": [
       "<div>\n",
       "<style scoped>\n",
       "    .dataframe tbody tr th:only-of-type {\n",
       "        vertical-align: middle;\n",
       "    }\n",
       "\n",
       "    .dataframe tbody tr th {\n",
       "        vertical-align: top;\n",
       "    }\n",
       "\n",
       "    .dataframe thead th {\n",
       "        text-align: right;\n",
       "    }\n",
       "</style>\n",
       "<table border=\"1\" class=\"dataframe\">\n",
       "  <thead>\n",
       "    <tr style=\"text-align: right;\">\n",
       "      <th></th>\n",
       "      <th>agency</th>\n",
       "      <th>avg_flight_price</th>\n",
       "      <th>avg_hotel_price</th>\n",
       "    </tr>\n",
       "  </thead>\n",
       "  <tbody>\n",
       "    <tr>\n",
       "      <th>0</th>\n",
       "      <td>CloudFy</td>\n",
       "      <td>918.90</td>\n",
       "      <td>213.73</td>\n",
       "    </tr>\n",
       "    <tr>\n",
       "      <th>1</th>\n",
       "      <td>Rainbow</td>\n",
       "      <td>919.78</td>\n",
       "      <td>214.76</td>\n",
       "    </tr>\n",
       "    <tr>\n",
       "      <th>2</th>\n",
       "      <td>FlyingDrops</td>\n",
       "      <td>1186.16</td>\n",
       "      <td>215.61</td>\n",
       "    </tr>\n",
       "  </tbody>\n",
       "</table>\n",
       "</div>"
      ],
      "text/plain": [
       "        agency  avg_flight_price  avg_hotel_price\n",
       "0      CloudFy            918.90           213.73\n",
       "1      Rainbow            919.78           214.76\n",
       "2  FlyingDrops           1186.16           215.61"
      ]
     },
     "execution_count": 13,
     "metadata": {},
     "output_type": "execute_result"
    }
   ],
   "source": [
    "query = \"\"\"\n",
    "-- average prices by agency\n",
    "SELECT f.agency, \n",
    "       ROUND(AVG(f.price), 2) AS avg_flight_price, \n",
    "       ROUND(AVG(h.price), 2) AS avg_hotel_price\n",
    "FROM flights f\n",
    "LEFT JOIN hotels h ON f.travelCode = h.travelCode\n",
    "GROUP BY f.agency;\n",
    "\"\"\"\n",
    "\n",
    "result = pd.read_sql(query, engine)\n",
    "\n",
    "result\n"
   ]
  },
  {
   "cell_type": "markdown",
   "id": "e3c8572c",
   "metadata": {},
   "source": [
    "### Flight Type"
   ]
  },
  {
   "cell_type": "markdown",
   "id": "b25525b4",
   "metadata": {},
   "source": [
    "The following query examines the number of flight bookings and the average flight prices by flight type. The average prices are in accordance to business logic, whereby first class tickets record higher prices than premium and economic tickets. Meanwhile, more first class bookings were recorded in this dataset, indicating that first class customers contributed more to the revenue of the company during this time period."
   ]
  },
  {
   "cell_type": "code",
   "execution_count": 14,
   "id": "e2ba26af",
   "metadata": {},
   "outputs": [
    {
     "data": {
      "application/vnd.microsoft.datawrangler.viewer.v0+json": {
       "columns": [
        {
         "name": "index",
         "rawType": "int64",
         "type": "integer"
        },
        {
         "name": "flightType",
         "rawType": "object",
         "type": "string"
        },
        {
         "name": "number_of_bookings",
         "rawType": "int64",
         "type": "integer"
        },
        {
         "name": "avg_price",
         "rawType": "float64",
         "type": "float"
        }
       ],
       "conversionMethod": "pd.DataFrame",
       "ref": "7b140611-422d-4968-a460-e47dba3a8b6f",
       "rows": [
        [
         "0",
         "economic",
         "77466",
         "658.44"
        ],
        [
         "1",
         "premium",
         "78004",
         "920.39"
        ],
        [
         "2",
         "firstClass",
         "116418",
         "1181.07"
        ]
       ],
       "shape": {
        "columns": 3,
        "rows": 3
       }
      },
      "text/html": [
       "<div>\n",
       "<style scoped>\n",
       "    .dataframe tbody tr th:only-of-type {\n",
       "        vertical-align: middle;\n",
       "    }\n",
       "\n",
       "    .dataframe tbody tr th {\n",
       "        vertical-align: top;\n",
       "    }\n",
       "\n",
       "    .dataframe thead th {\n",
       "        text-align: right;\n",
       "    }\n",
       "</style>\n",
       "<table border=\"1\" class=\"dataframe\">\n",
       "  <thead>\n",
       "    <tr style=\"text-align: right;\">\n",
       "      <th></th>\n",
       "      <th>flightType</th>\n",
       "      <th>number_of_bookings</th>\n",
       "      <th>avg_price</th>\n",
       "    </tr>\n",
       "  </thead>\n",
       "  <tbody>\n",
       "    <tr>\n",
       "      <th>0</th>\n",
       "      <td>economic</td>\n",
       "      <td>77466</td>\n",
       "      <td>658.44</td>\n",
       "    </tr>\n",
       "    <tr>\n",
       "      <th>1</th>\n",
       "      <td>premium</td>\n",
       "      <td>78004</td>\n",
       "      <td>920.39</td>\n",
       "    </tr>\n",
       "    <tr>\n",
       "      <th>2</th>\n",
       "      <td>firstClass</td>\n",
       "      <td>116418</td>\n",
       "      <td>1181.07</td>\n",
       "    </tr>\n",
       "  </tbody>\n",
       "</table>\n",
       "</div>"
      ],
      "text/plain": [
       "   flightType  number_of_bookings  avg_price\n",
       "0    economic               77466     658.44\n",
       "1     premium               78004     920.39\n",
       "2  firstClass              116418    1181.07"
      ]
     },
     "execution_count": 14,
     "metadata": {},
     "output_type": "execute_result"
    }
   ],
   "source": [
    "query = \"\"\"\n",
    "-- number of booking and average price by flight type\n",
    "SELECT flightType, COUNT(*) AS number_of_bookings, ROUND(AVG(price),2) AS avg_price\n",
    "FROM flights\n",
    "GROUP BY flightType;\n",
    "\"\"\"\n",
    "\n",
    "result = pd.read_sql(query, engine)\n",
    "\n",
    "result"
   ]
  },
  {
   "cell_type": "markdown",
   "id": "655e948d",
   "metadata": {},
   "source": [
    "## 4. Top Customer"
   ]
  },
  {
   "cell_type": "markdown",
   "id": "a87b4bc7",
   "metadata": {},
   "source": [
    "This query returns the names of users along with their corresponding flight, hotel, and total revenue. These are the top 10 customers who have spent the most on flights and hotels combined."
   ]
  },
  {
   "cell_type": "code",
   "execution_count": 15,
   "id": "7b9ca829",
   "metadata": {},
   "outputs": [
    {
     "data": {
      "application/vnd.microsoft.datawrangler.viewer.v0+json": {
       "columns": [
        {
         "name": "index",
         "rawType": "int64",
         "type": "integer"
        },
        {
         "name": "name",
         "rawType": "object",
         "type": "string"
        },
        {
         "name": "flight_revenue",
         "rawType": "float64",
         "type": "float"
        },
        {
         "name": "hotel_revenue",
         "rawType": "float64",
         "type": "float"
        },
        {
         "name": "total_revenue",
         "rawType": "float64",
         "type": "float"
        }
       ],
       "conversionMethod": "pd.DataFrame",
       "ref": "c5908bda-891c-4784-9b8a-d6bfbb7a9045",
       "rows": [
        [
         "0",
         "Tiffany Behm",
         "442901.02",
         "34051.8",
         "476952.82"
        ],
        [
         "1",
         "Christopher Mccormick",
         "427202.93",
         "34586.09",
         "461789.02"
        ],
        [
         "2",
         "Steven Smith",
         "426133.03",
         "34725.74",
         "460858.77"
        ],
        [
         "3",
         "Jessie Armstrong",
         "427218.92",
         "30112.59",
         "457331.51"
        ],
        [
         "4",
         "Lyndon Germain",
         "420362.27",
         "34435.88",
         "454798.15"
        ],
        [
         "5",
         "Helen Warner",
         "411852.92",
         "40999.86",
         "452852.78"
        ],
        [
         "6",
         "Jeffrey Ramage",
         "420462.47",
         "32103.16",
         "452565.63"
        ],
        [
         "7",
         "Laurel Rodriguez",
         "423936.24",
         "28170.15",
         "452106.39"
        ],
        [
         "8",
         "Albert Garroutte",
         "420398.06",
         "30218.54",
         "450616.6"
        ],
        [
         "9",
         "Trevor Robinson",
         "418347.29",
         "30776.36",
         "449123.65"
        ]
       ],
       "shape": {
        "columns": 4,
        "rows": 10
       }
      },
      "text/html": [
       "<div>\n",
       "<style scoped>\n",
       "    .dataframe tbody tr th:only-of-type {\n",
       "        vertical-align: middle;\n",
       "    }\n",
       "\n",
       "    .dataframe tbody tr th {\n",
       "        vertical-align: top;\n",
       "    }\n",
       "\n",
       "    .dataframe thead th {\n",
       "        text-align: right;\n",
       "    }\n",
       "</style>\n",
       "<table border=\"1\" class=\"dataframe\">\n",
       "  <thead>\n",
       "    <tr style=\"text-align: right;\">\n",
       "      <th></th>\n",
       "      <th>name</th>\n",
       "      <th>flight_revenue</th>\n",
       "      <th>hotel_revenue</th>\n",
       "      <th>total_revenue</th>\n",
       "    </tr>\n",
       "  </thead>\n",
       "  <tbody>\n",
       "    <tr>\n",
       "      <th>0</th>\n",
       "      <td>Tiffany Behm</td>\n",
       "      <td>442901.02</td>\n",
       "      <td>34051.80</td>\n",
       "      <td>476952.82</td>\n",
       "    </tr>\n",
       "    <tr>\n",
       "      <th>1</th>\n",
       "      <td>Christopher Mccormick</td>\n",
       "      <td>427202.93</td>\n",
       "      <td>34586.09</td>\n",
       "      <td>461789.02</td>\n",
       "    </tr>\n",
       "    <tr>\n",
       "      <th>2</th>\n",
       "      <td>Steven Smith</td>\n",
       "      <td>426133.03</td>\n",
       "      <td>34725.74</td>\n",
       "      <td>460858.77</td>\n",
       "    </tr>\n",
       "    <tr>\n",
       "      <th>3</th>\n",
       "      <td>Jessie Armstrong</td>\n",
       "      <td>427218.92</td>\n",
       "      <td>30112.59</td>\n",
       "      <td>457331.51</td>\n",
       "    </tr>\n",
       "    <tr>\n",
       "      <th>4</th>\n",
       "      <td>Lyndon Germain</td>\n",
       "      <td>420362.27</td>\n",
       "      <td>34435.88</td>\n",
       "      <td>454798.15</td>\n",
       "    </tr>\n",
       "    <tr>\n",
       "      <th>5</th>\n",
       "      <td>Helen Warner</td>\n",
       "      <td>411852.92</td>\n",
       "      <td>40999.86</td>\n",
       "      <td>452852.78</td>\n",
       "    </tr>\n",
       "    <tr>\n",
       "      <th>6</th>\n",
       "      <td>Jeffrey Ramage</td>\n",
       "      <td>420462.47</td>\n",
       "      <td>32103.16</td>\n",
       "      <td>452565.63</td>\n",
       "    </tr>\n",
       "    <tr>\n",
       "      <th>7</th>\n",
       "      <td>Laurel Rodriguez</td>\n",
       "      <td>423936.24</td>\n",
       "      <td>28170.15</td>\n",
       "      <td>452106.39</td>\n",
       "    </tr>\n",
       "    <tr>\n",
       "      <th>8</th>\n",
       "      <td>Albert Garroutte</td>\n",
       "      <td>420398.06</td>\n",
       "      <td>30218.54</td>\n",
       "      <td>450616.60</td>\n",
       "    </tr>\n",
       "    <tr>\n",
       "      <th>9</th>\n",
       "      <td>Trevor Robinson</td>\n",
       "      <td>418347.29</td>\n",
       "      <td>30776.36</td>\n",
       "      <td>449123.65</td>\n",
       "    </tr>\n",
       "  </tbody>\n",
       "</table>\n",
       "</div>"
      ],
      "text/plain": [
       "                    name  flight_revenue  hotel_revenue  total_revenue\n",
       "0           Tiffany Behm       442901.02       34051.80      476952.82\n",
       "1  Christopher Mccormick       427202.93       34586.09      461789.02\n",
       "2           Steven Smith       426133.03       34725.74      460858.77\n",
       "3       Jessie Armstrong       427218.92       30112.59      457331.51\n",
       "4         Lyndon Germain       420362.27       34435.88      454798.15\n",
       "5           Helen Warner       411852.92       40999.86      452852.78\n",
       "6         Jeffrey Ramage       420462.47       32103.16      452565.63\n",
       "7       Laurel Rodriguez       423936.24       28170.15      452106.39\n",
       "8       Albert Garroutte       420398.06       30218.54      450616.60\n",
       "9        Trevor Robinson       418347.29       30776.36      449123.65"
      ]
     },
     "execution_count": 15,
     "metadata": {},
     "output_type": "execute_result"
    }
   ],
   "source": [
    "query = \"\"\"\n",
    "-- top spenders\n",
    "SELECT TOP 10 users.name, c.flight_revenue, c.hotel_revenue, c.total_revenue\n",
    "FROM (\n",
    "\tSELECT a.userCode, \n",
    "\t\ta.flight_revenue, \n",
    "\t\tISNULL(b.hotel_revenue, 0) AS hotel_revenue, \n",
    "\t\tROUND(a.flight_revenue+ISNULL(b.hotel_revenue, 0),2) AS total_revenue\n",
    "\tFROM (\n",
    "\t\tSELECT userCode, ROUND(SUM(price),2) AS flight_revenue\n",
    "\t\tFROM flights\n",
    "\t\tGROUP BY userCode\n",
    "\t\t) AS a\n",
    "\tFULL OUTER JOIN (\n",
    "\t\tSELECT userCode, ROUND(SUM(total),2) AS hotel_revenue\n",
    "\t\tFROM hotels\n",
    "\t\tGROUP BY userCode\n",
    "\t\t) AS b\n",
    "\tON a.userCode = b.userCode\n",
    "\t) AS c\n",
    "INNER JOIN users \n",
    "ON c.userCode = users.code\n",
    "ORDER BY 4 DESC;\n",
    "\"\"\"\n",
    "\n",
    "result = pd.read_sql(query, engine)\n",
    "\n",
    "result"
   ]
  }
 ],
 "metadata": {
  "kernelspec": {
   "display_name": ".venv",
   "language": "python",
   "name": "python3"
  },
  "language_info": {
   "codemirror_mode": {
    "name": "ipython",
    "version": 3
   },
   "file_extension": ".py",
   "mimetype": "text/x-python",
   "name": "python",
   "nbconvert_exporter": "python",
   "pygments_lexer": "ipython3",
   "version": "3.11.9"
  }
 },
 "nbformat": 4,
 "nbformat_minor": 5
}

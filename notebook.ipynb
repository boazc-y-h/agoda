{
 "cells": [
  {
   "cell_type": "markdown",
   "id": "776e19ce",
   "metadata": {},
   "source": [
    "# EDA of Agoda's flights and hotel dataset using SQL"
   ]
  },
  {
   "cell_type": "markdown",
   "id": "4827962e",
   "metadata": {},
   "source": [
    "## Set Up"
   ]
  },
  {
   "cell_type": "code",
   "execution_count": 4,
   "id": "4a9d8341",
   "metadata": {},
   "outputs": [
    {
     "data": {
      "text/plain": [
       "1340"
      ]
     },
     "execution_count": 4,
     "metadata": {},
     "output_type": "execute_result"
    }
   ],
   "source": [
    "# Set up necessary imports\n",
    "import pandas as pd\n",
    "from sqlalchemy import create_engine\n",
    "\n",
    "# Create an in-memory SQLite database engine\n",
    "engine = create_engine('sqlite:///:memory:')\n",
    "\n",
    "# Load the CSV data into a DataFrame\n",
    "flights = pd.read_csv(\"data/flights.csv\")\n",
    "hotels = pd.read_csv(\"data/hotels.csv\")\n",
    "users = pd.read_csv(\"data/users.csv\")\n",
    "\n",
    "# Push the DataFrame to the SQLite database (creating the table)\n",
    "flights.to_sql(\"flights\", con=engine, if_exists=\"replace\", index=False)\n",
    "hotels.to_sql(\"hotels\", con=engine, if_exists=\"replace\", index=False)\n",
    "users.to_sql(\"users\", con=engine, if_exists=\"replace\", index=False)"
   ]
  },
  {
   "cell_type": "markdown",
   "id": "3a4be7c5",
   "metadata": {},
   "source": [
    "## 1. Distribution of flight bookings by demographic factors"
   ]
  },
  {
   "cell_type": "code",
   "execution_count": null,
   "id": "f10950ec",
   "metadata": {},
   "outputs": [
    {
     "data": {
      "application/vnd.microsoft.datawrangler.viewer.v0+json": {
       "columns": [
        {
         "name": "index",
         "rawType": "int64",
         "type": "integer"
        },
        {
         "name": "gender",
         "rawType": "object",
         "type": "string"
        },
        {
         "name": "number_of_bookings",
         "rawType": "int64",
         "type": "integer"
        },
        {
         "name": "percentage",
         "rawType": "float64",
         "type": "float"
        }
       ],
       "conversionMethod": "pd.DataFrame",
       "ref": "a13071de-4347-4fd2-9b33-06e884b65bf5",
       "rows": [
        [
         "0",
         "female",
         "91580",
         "33.68298711234038"
        ],
        [
         "1",
         "male",
         "91248",
         "33.56087800859177"
        ],
        [
         "2",
         "none",
         "89060",
         "32.75613487906785"
        ]
       ],
       "shape": {
        "columns": 3,
        "rows": 3
       }
      },
      "text/html": [
       "<div>\n",
       "<style scoped>\n",
       "    .dataframe tbody tr th:only-of-type {\n",
       "        vertical-align: middle;\n",
       "    }\n",
       "\n",
       "    .dataframe tbody tr th {\n",
       "        vertical-align: top;\n",
       "    }\n",
       "\n",
       "    .dataframe thead th {\n",
       "        text-align: right;\n",
       "    }\n",
       "</style>\n",
       "<table border=\"1\" class=\"dataframe\">\n",
       "  <thead>\n",
       "    <tr style=\"text-align: right;\">\n",
       "      <th></th>\n",
       "      <th>gender</th>\n",
       "      <th>number_of_bookings</th>\n",
       "      <th>percentage</th>\n",
       "    </tr>\n",
       "  </thead>\n",
       "  <tbody>\n",
       "    <tr>\n",
       "      <th>0</th>\n",
       "      <td>female</td>\n",
       "      <td>91580</td>\n",
       "      <td>33.682987</td>\n",
       "    </tr>\n",
       "    <tr>\n",
       "      <th>1</th>\n",
       "      <td>male</td>\n",
       "      <td>91248</td>\n",
       "      <td>33.560878</td>\n",
       "    </tr>\n",
       "    <tr>\n",
       "      <th>2</th>\n",
       "      <td>none</td>\n",
       "      <td>89060</td>\n",
       "      <td>32.756135</td>\n",
       "    </tr>\n",
       "  </tbody>\n",
       "</table>\n",
       "</div>"
      ],
      "text/plain": [
       "   gender  number_of_bookings  percentage\n",
       "0  female               91580   33.682987\n",
       "1    male               91248   33.560878\n",
       "2    none               89060   32.756135"
      ]
     },
     "execution_count": 8,
     "metadata": {},
     "output_type": "execute_result"
    }
   ],
   "source": [
    "# Query the flight bookings by gender\n",
    "query = \"\"\"\n",
    "SELECT \n",
    "    gender, \n",
    "    COUNT(*) AS number_of_bookings, \n",
    "    COUNT(*) * 100.0 / (SELECT COUNT(*) FROM flights) AS percentage\n",
    "FROM flights \n",
    "INNER JOIN users \n",
    "    ON flights.userCode = users.code\n",
    "GROUP BY gender\n",
    "\"\"\"\n",
    "\n",
    "result = pd.read_sql(query, con=engine)\n",
    "result\n"
   ]
  },
  {
   "cell_type": "code",
   "execution_count": 10,
   "id": "fcba9759",
   "metadata": {},
   "outputs": [
    {
     "data": {
      "application/vnd.microsoft.datawrangler.viewer.v0+json": {
       "columns": [
        {
         "name": "index",
         "rawType": "int64",
         "type": "integer"
        },
        {
         "name": "bin_floor",
         "rawType": "int64",
         "type": "integer"
        },
        {
         "name": "number_of_bookings",
         "rawType": "int64",
         "type": "integer"
        },
        {
         "name": "percentage",
         "rawType": "int64",
         "type": "integer"
        }
       ],
       "conversionMethod": "pd.DataFrame",
       "ref": "e8f489a4-4f6d-41a0-bf7f-2f8b9f6cccd7",
       "rows": [
        [
         "0",
         "20",
         "52956",
         "19"
        ],
        [
         "1",
         "30",
         "64670",
         "23"
        ],
        [
         "2",
         "40",
         "61548",
         "22"
        ],
        [
         "3",
         "50",
         "57260",
         "21"
        ],
        [
         "4",
         "60",
         "35454",
         "13"
        ]
       ],
       "shape": {
        "columns": 3,
        "rows": 5
       }
      },
      "text/html": [
       "<div>\n",
       "<style scoped>\n",
       "    .dataframe tbody tr th:only-of-type {\n",
       "        vertical-align: middle;\n",
       "    }\n",
       "\n",
       "    .dataframe tbody tr th {\n",
       "        vertical-align: top;\n",
       "    }\n",
       "\n",
       "    .dataframe thead th {\n",
       "        text-align: right;\n",
       "    }\n",
       "</style>\n",
       "<table border=\"1\" class=\"dataframe\">\n",
       "  <thead>\n",
       "    <tr style=\"text-align: right;\">\n",
       "      <th></th>\n",
       "      <th>bin_floor</th>\n",
       "      <th>number_of_bookings</th>\n",
       "      <th>percentage</th>\n",
       "    </tr>\n",
       "  </thead>\n",
       "  <tbody>\n",
       "    <tr>\n",
       "      <th>0</th>\n",
       "      <td>20</td>\n",
       "      <td>52956</td>\n",
       "      <td>19</td>\n",
       "    </tr>\n",
       "    <tr>\n",
       "      <th>1</th>\n",
       "      <td>30</td>\n",
       "      <td>64670</td>\n",
       "      <td>23</td>\n",
       "    </tr>\n",
       "    <tr>\n",
       "      <th>2</th>\n",
       "      <td>40</td>\n",
       "      <td>61548</td>\n",
       "      <td>22</td>\n",
       "    </tr>\n",
       "    <tr>\n",
       "      <th>3</th>\n",
       "      <td>50</td>\n",
       "      <td>57260</td>\n",
       "      <td>21</td>\n",
       "    </tr>\n",
       "    <tr>\n",
       "      <th>4</th>\n",
       "      <td>60</td>\n",
       "      <td>35454</td>\n",
       "      <td>13</td>\n",
       "    </tr>\n",
       "  </tbody>\n",
       "</table>\n",
       "</div>"
      ],
      "text/plain": [
       "   bin_floor  number_of_bookings  percentage\n",
       "0         20               52956          19\n",
       "1         30               64670          23\n",
       "2         40               61548          22\n",
       "3         50               57260          21\n",
       "4         60               35454          13"
      ]
     },
     "execution_count": 10,
     "metadata": {},
     "output_type": "execute_result"
    }
   ],
   "source": [
    "# Query the flight bookings by age group\n",
    "query = \"\"\"\n",
    "SELECT \n",
    "    floor(age/10)*10 AS bin_floor, \n",
    "    COUNT(*) AS number_of_bookings, \n",
    "    COUNT(*)*100/(SELECT COUNT(*) FROM flights) AS percentage\n",
    "FROM flights \n",
    "INNER JOIN users \n",
    "ON flights.userCode = users.code\n",
    "GROUP BY floor(age/10)*10\n",
    "ORDER BY 1\n",
    "\"\"\"\n",
    "\n",
    "result = pd.read_sql(query, con=engine)\n",
    "result\n"
   ]
  },
  {
   "cell_type": "code",
   "execution_count": null,
   "id": "b16fdadd",
   "metadata": {},
   "outputs": [
    {
     "data": {
      "application/vnd.microsoft.datawrangler.viewer.v0+json": {
       "columns": [
        {
         "name": "index",
         "rawType": "int64",
         "type": "integer"
        },
        {
         "name": "bin_floor",
         "rawType": "int64",
         "type": "integer"
        },
        {
         "name": "avg_price",
         "rawType": "float64",
         "type": "float"
        }
       ],
       "conversionMethod": "pd.DataFrame",
       "ref": "4b88640d-4986-403a-844b-15e7a01f44b0",
       "rows": [
        [
         "0",
         "20",
         "963.53"
        ],
        [
         "1",
         "30",
         "962.19"
        ],
        [
         "2",
         "40",
         "953.59"
        ],
        [
         "3",
         "50",
         "957.44"
        ],
        [
         "4",
         "60",
         "945.87"
        ]
       ],
       "shape": {
        "columns": 2,
        "rows": 5
       }
      },
      "text/html": [
       "<div>\n",
       "<style scoped>\n",
       "    .dataframe tbody tr th:only-of-type {\n",
       "        vertical-align: middle;\n",
       "    }\n",
       "\n",
       "    .dataframe tbody tr th {\n",
       "        vertical-align: top;\n",
       "    }\n",
       "\n",
       "    .dataframe thead th {\n",
       "        text-align: right;\n",
       "    }\n",
       "</style>\n",
       "<table border=\"1\" class=\"dataframe\">\n",
       "  <thead>\n",
       "    <tr style=\"text-align: right;\">\n",
       "      <th></th>\n",
       "      <th>bin_floor</th>\n",
       "      <th>avg_price</th>\n",
       "    </tr>\n",
       "  </thead>\n",
       "  <tbody>\n",
       "    <tr>\n",
       "      <th>0</th>\n",
       "      <td>20</td>\n",
       "      <td>963.53</td>\n",
       "    </tr>\n",
       "    <tr>\n",
       "      <th>1</th>\n",
       "      <td>30</td>\n",
       "      <td>962.19</td>\n",
       "    </tr>\n",
       "    <tr>\n",
       "      <th>2</th>\n",
       "      <td>40</td>\n",
       "      <td>953.59</td>\n",
       "    </tr>\n",
       "    <tr>\n",
       "      <th>3</th>\n",
       "      <td>50</td>\n",
       "      <td>957.44</td>\n",
       "    </tr>\n",
       "    <tr>\n",
       "      <th>4</th>\n",
       "      <td>60</td>\n",
       "      <td>945.87</td>\n",
       "    </tr>\n",
       "  </tbody>\n",
       "</table>\n",
       "</div>"
      ],
      "text/plain": [
       "   bin_floor  avg_price\n",
       "0         20     963.53\n",
       "1         30     962.19\n",
       "2         40     953.59\n",
       "3         50     957.44\n",
       "4         60     945.87"
      ]
     },
     "execution_count": 11,
     "metadata": {},
     "output_type": "execute_result"
    }
   ],
   "source": [
    "# Query the average flight price by age group\n",
    "query = \"\"\"\n",
    "SELECT floor(age/10)*10 AS bin_floor, ROUND(AVG(price),2) AS avg_price\n",
    "FROM flights \n",
    "INNER JOIN users \n",
    "ON flights.userCode = users.code\n",
    "GROUP BY floor(age/10)*10\n",
    "ORDER BY 1\n",
    "\"\"\"\n",
    "\n",
    "result = pd.read_sql(query, con=engine)\n",
    "result\n"
   ]
  },
  {
   "cell_type": "code",
   "execution_count": null,
   "id": "284a6299",
   "metadata": {},
   "outputs": [
    {
     "data": {
      "application/vnd.microsoft.datawrangler.viewer.v0+json": {
       "columns": [
        {
         "name": "index",
         "rawType": "int64",
         "type": "integer"
        },
        {
         "name": "flightType",
         "rawType": "object",
         "type": "string"
        },
        {
         "name": "number_of_bookings",
         "rawType": "int64",
         "type": "integer"
        },
        {
         "name": "avg_price",
         "rawType": "float64",
         "type": "float"
        }
       ],
       "conversionMethod": "pd.DataFrame",
       "ref": "9265198a-9034-4215-af0e-c057623671d7",
       "rows": [
        [
         "0",
         "economic",
         "77466",
         "658.44"
        ],
        [
         "1",
         "firstClass",
         "116418",
         "1181.07"
        ],
        [
         "2",
         "premium",
         "78004",
         "920.39"
        ]
       ],
       "shape": {
        "columns": 3,
        "rows": 3
       }
      },
      "text/html": [
       "<div>\n",
       "<style scoped>\n",
       "    .dataframe tbody tr th:only-of-type {\n",
       "        vertical-align: middle;\n",
       "    }\n",
       "\n",
       "    .dataframe tbody tr th {\n",
       "        vertical-align: top;\n",
       "    }\n",
       "\n",
       "    .dataframe thead th {\n",
       "        text-align: right;\n",
       "    }\n",
       "</style>\n",
       "<table border=\"1\" class=\"dataframe\">\n",
       "  <thead>\n",
       "    <tr style=\"text-align: right;\">\n",
       "      <th></th>\n",
       "      <th>flightType</th>\n",
       "      <th>number_of_bookings</th>\n",
       "      <th>avg_price</th>\n",
       "    </tr>\n",
       "  </thead>\n",
       "  <tbody>\n",
       "    <tr>\n",
       "      <th>0</th>\n",
       "      <td>economic</td>\n",
       "      <td>77466</td>\n",
       "      <td>658.44</td>\n",
       "    </tr>\n",
       "    <tr>\n",
       "      <th>1</th>\n",
       "      <td>firstClass</td>\n",
       "      <td>116418</td>\n",
       "      <td>1181.07</td>\n",
       "    </tr>\n",
       "    <tr>\n",
       "      <th>2</th>\n",
       "      <td>premium</td>\n",
       "      <td>78004</td>\n",
       "      <td>920.39</td>\n",
       "    </tr>\n",
       "  </tbody>\n",
       "</table>\n",
       "</div>"
      ],
      "text/plain": [
       "   flightType  number_of_bookings  avg_price\n",
       "0    economic               77466     658.44\n",
       "1  firstClass              116418    1181.07\n",
       "2     premium               78004     920.39"
      ]
     },
     "execution_count": 12,
     "metadata": {},
     "output_type": "execute_result"
    }
   ],
   "source": [
    "# Query the flight bookings and average price by flight type\n",
    "query = \"\"\"\n",
    "SELECT flightType, COUNT(*) AS number_of_bookings, ROUND(AVG(price),2) AS avg_price\n",
    "FROM flights\n",
    "GROUP BY flightType\n",
    "\"\"\"\n",
    "\n",
    "result = pd.read_sql(query, con=engine)\n",
    "result\n"
   ]
  },
  {
   "cell_type": "code",
   "execution_count": 7,
   "id": "8c0306fb",
   "metadata": {},
   "outputs": [
    {
     "data": {
      "application/vnd.microsoft.datawrangler.viewer.v0+json": {
       "columns": [
        {
         "name": "index",
         "rawType": "int64",
         "type": "integer"
        },
        {
         "name": "gender",
         "rawType": "object",
         "type": "string"
        },
        {
         "name": "number_of_bookings",
         "rawType": "int64",
         "type": "integer"
        },
        {
         "name": "COUNT(*)*100/(SELECT COUNT(*) FROM flights)",
         "rawType": "int64",
         "type": "integer"
        }
       ],
       "conversionMethod": "pd.DataFrame",
       "ref": "a3fe4fd2-37e4-43ca-bfa3-36db7e9b2be6",
       "rows": [
        [
         "0",
         "female",
         "91580",
         "33"
        ],
        [
         "1",
         "male",
         "91248",
         "33"
        ],
        [
         "2",
         "none",
         "89060",
         "32"
        ]
       ],
       "shape": {
        "columns": 3,
        "rows": 3
       }
      },
      "text/html": [
       "<div>\n",
       "<style scoped>\n",
       "    .dataframe tbody tr th:only-of-type {\n",
       "        vertical-align: middle;\n",
       "    }\n",
       "\n",
       "    .dataframe tbody tr th {\n",
       "        vertical-align: top;\n",
       "    }\n",
       "\n",
       "    .dataframe thead th {\n",
       "        text-align: right;\n",
       "    }\n",
       "</style>\n",
       "<table border=\"1\" class=\"dataframe\">\n",
       "  <thead>\n",
       "    <tr style=\"text-align: right;\">\n",
       "      <th></th>\n",
       "      <th>gender</th>\n",
       "      <th>number_of_bookings</th>\n",
       "      <th>COUNT(*)*100/(SELECT COUNT(*) FROM flights)</th>\n",
       "    </tr>\n",
       "  </thead>\n",
       "  <tbody>\n",
       "    <tr>\n",
       "      <th>0</th>\n",
       "      <td>female</td>\n",
       "      <td>91580</td>\n",
       "      <td>33</td>\n",
       "    </tr>\n",
       "    <tr>\n",
       "      <th>1</th>\n",
       "      <td>male</td>\n",
       "      <td>91248</td>\n",
       "      <td>33</td>\n",
       "    </tr>\n",
       "    <tr>\n",
       "      <th>2</th>\n",
       "      <td>none</td>\n",
       "      <td>89060</td>\n",
       "      <td>32</td>\n",
       "    </tr>\n",
       "  </tbody>\n",
       "</table>\n",
       "</div>"
      ],
      "text/plain": [
       "   gender  number_of_bookings  COUNT(*)*100/(SELECT COUNT(*) FROM flights)\n",
       "0  female               91580                                           33\n",
       "1    male               91248                                           33\n",
       "2    none               89060                                           32"
      ]
     },
     "execution_count": 7,
     "metadata": {},
     "output_type": "execute_result"
    }
   ],
   "source": [
    "with open(\"query/1a_flightbookingsbygender.sql\", \"r\", encoding=\"utf-8-sig\") as file:\n",
    "    query = file.read()\n",
    "\n",
    "result = pd.read_sql(query, con=engine)\n",
    "result\n"
   ]
  }
 ],
 "metadata": {
  "kernelspec": {
   "display_name": ".venv",
   "language": "python",
   "name": "python3"
  },
  "language_info": {
   "codemirror_mode": {
    "name": "ipython",
    "version": 3
   },
   "file_extension": ".py",
   "mimetype": "text/x-python",
   "name": "python",
   "nbconvert_exporter": "python",
   "pygments_lexer": "ipython3",
   "version": "3.11.9"
  }
 },
 "nbformat": 4,
 "nbformat_minor": 5
}
